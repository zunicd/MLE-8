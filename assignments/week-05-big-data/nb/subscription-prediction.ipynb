{
 "cells": [
  {
   "cell_type": "markdown",
   "metadata": {
    "application/vnd.databricks.v1+cell": {
     "inputWidgets": {},
     "nuid": "850ff7c4-2840-41aa-b51e-724d2631f494",
     "showTitle": false,
     "title": ""
    }
   },
   "source": [
    "<p align = \"center\" draggable=”false” ><img src=\"https://user-images.githubusercontent.com/37101144/161836199-fdb0219d-0361-4988-bf26-48b0fad160a3.png\" \n",
    "     width=\"200px\"\n",
    "     height=\"auto\"/>\n",
    "</p>"
   ]
  },
  {
   "cell_type": "markdown",
   "metadata": {
    "application/vnd.databricks.v1+cell": {
     "inputWidgets": {},
     "nuid": "f25fead1-c5a9-4222-a41c-5d1634dd3446",
     "showTitle": false,
     "title": ""
    }
   },
   "source": [
    "# <h1 align=\"center\" id=\"heading\">Subscription Prediction with PySpark and MLlib</h1>"
   ]
  },
  {
   "cell_type": "markdown",
   "metadata": {
    "application/vnd.databricks.v1+cell": {
     "inputWidgets": {},
     "nuid": "1340ae82-a6fc-4561-9713-779bab5d7195",
     "showTitle": false,
     "title": ""
    }
   },
   "source": [
    "# Spark Environment\n",
    "\n",
    "Make sure that you open this notebook in your Spark environment!"
   ]
  },
  {
   "cell_type": "markdown",
   "metadata": {
    "application/vnd.databricks.v1+cell": {
     "inputWidgets": {},
     "nuid": "4f4cfc2f-d887-4026-981d-781ba9568d6d",
     "showTitle": false,
     "title": ""
    }
   },
   "source": [
    "## Learning Objectives"
   ]
  },
  {
   "cell_type": "markdown",
   "metadata": {
    "application/vnd.databricks.v1+cell": {
     "inputWidgets": {},
     "nuid": "cd0adf5a-6be3-4544-b730-29781d89e33c",
     "showTitle": false,
     "title": ""
    }
   },
   "source": [
    "At the end of this session, you will be able to \n",
    "\n",
    "- Explore data with Spark DataFrames \n",
    "- Build a pipeline in MLlib for machine learning workflow\n",
    "- Fit a logistic regression model, make predictions, and evaluate the model"
   ]
  },
  {
   "cell_type": "markdown",
   "metadata": {
    "application/vnd.databricks.v1+cell": {
     "inputWidgets": {},
     "nuid": "2571c03a-cae9-4b9b-9861-f040eb696b2a",
     "showTitle": false,
     "title": ""
    }
   },
   "source": [
    "## Part 1: Data Loader"
   ]
  },
  {
   "cell_type": "markdown",
   "metadata": {
    "application/vnd.databricks.v1+cell": {
     "inputWidgets": {},
     "nuid": "fe9e1d9c-4520-416d-b288-9fc736cc1140",
     "showTitle": false,
     "title": ""
    }
   },
   "source": [
    "We are using a dataset from the UCI Machine Learning Repository.\n",
    "\n",
    "1. Use `wget` to download the dataset. Then use `ls` to verify that the `bank.zip` file is downloaded."
   ]
  },
  {
   "cell_type": "code",
   "execution_count": null,
   "metadata": {
    "application/vnd.databricks.v1+cell": {
     "inputWidgets": {},
     "nuid": "2ce68a28-e78c-4ac3-87fd-8e49fda7183e",
     "showTitle": false,
     "title": ""
    }
   },
   "outputs": [
    {
     "data": {
      "text/plain": [
       "--2022-07-28 20:36:17--  https://archive.ics.uci.edu/ml/machine-learning-databases/00222/bank.zip\n",
       "Resolving archive.ics.uci.edu (archive.ics.uci.edu)... 128.195.10.252\n",
       "Connecting to archive.ics.uci.edu (archive.ics.uci.edu)|128.195.10.252|:443... connected.\n",
       "HTTP request sent, awaiting response... 200 OK\n",
       "Length: 579043 (565K) [application/x-httpd-php]\n",
       "Saving to: ‘bank.zip’\n",
       "\n",
       "     0K .......... .......... .......... .......... ..........  8%  821K 1s\n",
       "    50K .......... .......... .......... .......... .......... 17% 1.64M 0s\n",
       "   100K .......... .......... .......... .......... .......... 26% 1.66M 0s\n",
       "   150K .......... .......... .......... .......... .......... 35% 1.63M 0s\n",
       "   200K .......... .......... .......... .......... .......... 44% 45.7M 0s\n",
       "   250K .......... .......... .......... .......... .......... 53% 31.1M 0s\n",
       "   300K .......... .......... .......... .......... .......... 61% 1.70M 0s\n",
       "   350K .......... .......... .......... .......... .......... 70% 13.1M 0s\n",
       "   400K .......... .......... .......... .......... .......... 79% 17.2M 0s\n",
       "   450K .......... .......... .......... .......... .......... 88% 2.42M 0s\n",
       "   500K .......... .......... .......... .......... .......... 97% 60.3M 0s\n",
       "   550K .......... .....                                      100% 50.6M=0.2s\n",
       "\n",
       "2022-07-28 20:36:17 (2.64 MB/s) - ‘bank.zip’ saved [579043/579043]\n",
       "\n"
      ]
     },
     "metadata": {
      "application/vnd.databricks.v1+output": {
       "addedWidgets": {},
       "arguments": {},
       "data": "--2022-07-28 20:36:17--  https://archive.ics.uci.edu/ml/machine-learning-databases/00222/bank.zip\nResolving archive.ics.uci.edu (archive.ics.uci.edu)... 128.195.10.252\nConnecting to archive.ics.uci.edu (archive.ics.uci.edu)|128.195.10.252|:443... connected.\nHTTP request sent, awaiting response... 200 OK\nLength: 579043 (565K) [application/x-httpd-php]\nSaving to: ‘bank.zip’\n\n     0K .......... .......... .......... .......... ..........  8%  821K 1s\n    50K .......... .......... .......... .......... .......... 17% 1.64M 0s\n   100K .......... .......... .......... .......... .......... 26% 1.66M 0s\n   150K .......... .......... .......... .......... .......... 35% 1.63M 0s\n   200K .......... .......... .......... .......... .......... 44% 45.7M 0s\n   250K .......... .......... .......... .......... .......... 53% 31.1M 0s\n   300K .......... .......... .......... .......... .......... 61% 1.70M 0s\n   350K .......... .......... .......... .......... .......... 70% 13.1M 0s\n   400K .......... .......... .......... .......... .......... 79% 17.2M 0s\n   450K .......... .......... .......... .......... .......... 88% 2.42M 0s\n   500K .......... .......... .......... .......... .......... 97% 60.3M 0s\n   550K .......... .....                                      100% 50.6M=0.2s\n\n2022-07-28 20:36:17 (2.64 MB/s) - ‘bank.zip’ saved [579043/579043]\n\n",
       "datasetInfos": [],
       "metadata": {},
       "removedWidgets": [],
       "type": "ansi"
      }
     },
     "output_type": "display_data"
    }
   ],
   "source": [
    "%%sh\n",
    "wget https://archive.ics.uci.edu/ml/machine-learning-databases/00222/bank.zip"
   ]
  },
  {
   "cell_type": "code",
   "execution_count": null,
   "metadata": {
    "application/vnd.databricks.v1+cell": {
     "inputWidgets": {},
     "nuid": "14241a78-c5ad-4962-9322-e0e6bdf3737f",
     "showTitle": false,
     "title": ""
    }
   },
   "outputs": [
    {
     "data": {
      "text/plain": [
       "\u001b[0m\u001b[01;34mazure\u001b[0m/    \u001b[01;34mconf\u001b[0m/       \u001b[01;32mhadoop_accessed_config.lst\u001b[0m*  \u001b[01;34mmetastore_db\u001b[0m/\r\n",
       "bank.zip  \u001b[01;34meventlogs\u001b[0m/  \u001b[01;34mlogs\u001b[0m/                        \u001b[01;32mpreload_class.lst\u001b[0m*\r\n"
      ]
     },
     "metadata": {
      "application/vnd.databricks.v1+output": {
       "addedWidgets": {},
       "arguments": {},
       "data": "\u001b[0m\u001b[01;34mazure\u001b[0m/    \u001b[01;34mconf\u001b[0m/       \u001b[01;32mhadoop_accessed_config.lst\u001b[0m*  \u001b[01;34mmetastore_db\u001b[0m/\r\nbank.zip  \u001b[01;34meventlogs\u001b[0m/  \u001b[01;34mlogs\u001b[0m/                        \u001b[01;32mpreload_class.lst\u001b[0m*\r\n",
       "datasetInfos": [],
       "metadata": {},
       "removedWidgets": [],
       "type": "ansi"
      }
     },
     "output_type": "display_data"
    }
   ],
   "source": [
    "ls"
   ]
  },
  {
   "cell_type": "markdown",
   "metadata": {
    "application/vnd.databricks.v1+cell": {
     "inputWidgets": {},
     "nuid": "c2b94711-a373-4ec2-b61e-fefe9eeea85d",
     "showTitle": false,
     "title": ""
    }
   },
   "source": [
    "2. Unzip the file and use `ls` to see the files."
   ]
  },
  {
   "cell_type": "code",
   "execution_count": null,
   "metadata": {
    "application/vnd.databricks.v1+cell": {
     "inputWidgets": {},
     "nuid": "000511fa-ff85-406c-9186-34c56a0369a6",
     "showTitle": false,
     "title": ""
    }
   },
   "outputs": [
    {
     "data": {
      "text/plain": [
       "Archive:  bank.zip\n",
       "  inflating: bank-full.csv           \n",
       "  inflating: bank-names.txt          \n",
       "  inflating: bank.csv                \n"
      ]
     },
     "metadata": {
      "application/vnd.databricks.v1+output": {
       "addedWidgets": {},
       "arguments": {},
       "data": "Archive:  bank.zip\n  inflating: bank-full.csv           \n  inflating: bank-names.txt          \n  inflating: bank.csv                \n",
       "datasetInfos": [],
       "metadata": {},
       "removedWidgets": [],
       "type": "ansi"
      }
     },
     "output_type": "display_data"
    }
   ],
   "source": [
    "%%sh\n",
    "unzip bank.zip"
   ]
  },
  {
   "cell_type": "code",
   "execution_count": null,
   "metadata": {
    "application/vnd.databricks.v1+cell": {
     "inputWidgets": {},
     "nuid": "2349ba91-fc61-456f-96bf-5f5aea6b32d1",
     "showTitle": false,
     "title": ""
    }
   },
   "outputs": [
    {
     "data": {
      "text/plain": [
       "ERROR:root:Exception while sending command.\n",
       "Traceback (most recent call last):\n",
       "  File \"/databricks/spark/python/lib/py4j-0.10.9.5-src.zip/py4j/clientserver.py\", line 511, in send_command\n",
       "    answer = smart_decode(self.stream.readline()[:-1])\n",
       "  File \"/usr/lib/python3.9/socket.py\", line 704, in readinto\n",
       "    return self._sock.recv_into(b)\n",
       "ConnectionResetError: [Errno 104] Connection reset by peer\n",
       "\n",
       "During handling of the above exception, another exception occurred:\n",
       "\n",
       "Traceback (most recent call last):\n",
       "  File \"/databricks/spark/python/lib/py4j-0.10.9.5-src.zip/py4j/java_gateway.py\", line 1038, in send_command\n",
       "    response = connection.send_command(command)\n",
       "  File \"/databricks/spark/python/lib/py4j-0.10.9.5-src.zip/py4j/clientserver.py\", line 539, in send_command\n",
       "    raise Py4JNetworkError(\n",
       "py4j.protocol.Py4JNetworkError: Error while sending or receiving\n",
       "\u001b[0m\u001b[01;34mazure\u001b[0m/          bank.csv  \u001b[01;34meventlogs\u001b[0m/                   \u001b[01;34mmetastore_db\u001b[0m/\r\n",
       "bank-full.csv   bank.zip  \u001b[01;32mhadoop_accessed_config.lst\u001b[0m*  \u001b[01;32mpreload_class.lst\u001b[0m*\r\n",
       "bank-names.txt  \u001b[01;34mconf\u001b[0m/     \u001b[01;34mlogs\u001b[0m/\r\n"
      ]
     },
     "metadata": {
      "application/vnd.databricks.v1+output": {
       "addedWidgets": {},
       "arguments": {},
       "data": "ERROR:root:Exception while sending command.\nTraceback (most recent call last):\n  File \"/databricks/spark/python/lib/py4j-0.10.9.5-src.zip/py4j/clientserver.py\", line 511, in send_command\n    answer = smart_decode(self.stream.readline()[:-1])\n  File \"/usr/lib/python3.9/socket.py\", line 704, in readinto\n    return self._sock.recv_into(b)\nConnectionResetError: [Errno 104] Connection reset by peer\n\nDuring handling of the above exception, another exception occurred:\n\nTraceback (most recent call last):\n  File \"/databricks/spark/python/lib/py4j-0.10.9.5-src.zip/py4j/java_gateway.py\", line 1038, in send_command\n    response = connection.send_command(command)\n  File \"/databricks/spark/python/lib/py4j-0.10.9.5-src.zip/py4j/clientserver.py\", line 539, in send_command\n    raise Py4JNetworkError(\npy4j.protocol.Py4JNetworkError: Error while sending or receiving\n\u001b[0m\u001b[01;34mazure\u001b[0m/          bank.csv  \u001b[01;34meventlogs\u001b[0m/                   \u001b[01;34mmetastore_db\u001b[0m/\r\nbank-full.csv   bank.zip  \u001b[01;32mhadoop_accessed_config.lst\u001b[0m*  \u001b[01;32mpreload_class.lst\u001b[0m*\r\nbank-names.txt  \u001b[01;34mconf\u001b[0m/     \u001b[01;34mlogs\u001b[0m/\r\n",
       "datasetInfos": [],
       "metadata": {},
       "removedWidgets": [],
       "type": "ansi"
      }
     },
     "output_type": "display_data"
    }
   ],
   "source": [
    "ls"
   ]
  },
  {
   "cell_type": "markdown",
   "metadata": {
    "application/vnd.databricks.v1+cell": {
     "inputWidgets": {},
     "nuid": "9e212db6-6e87-468b-abd7-15a720ff8b96",
     "showTitle": false,
     "title": ""
    }
   },
   "source": [
    "## Part 2: Exploring The Data\n",
    "\n",
    "We will use the direct marketing campaigns (phone calls) of a Portuguese banking institution. The classification goal is to predict whether the client will subscribe (Yes/No) to a term deposit.\n",
    "\n",
    "1. Load in the data and look at the columns."
   ]
  },
  {
   "cell_type": "code",
   "execution_count": null,
   "metadata": {
    "application/vnd.databricks.v1+cell": {
     "inputWidgets": {},
     "nuid": "24bcf95a-d1ca-497c-9243-b0ab5556c6c4",
     "showTitle": false,
     "title": ""
    }
   },
   "outputs": [
    {
     "data": {
      "text/plain": [
       "root\n",
       " |-- age: integer (nullable = true)\n",
       " |-- job: string (nullable = true)\n",
       " |-- marital: string (nullable = true)\n",
       " |-- education: string (nullable = true)\n",
       " |-- default: string (nullable = true)\n",
       " |-- balance: integer (nullable = true)\n",
       " |-- housing: string (nullable = true)\n",
       " |-- loan: string (nullable = true)\n",
       " |-- contact: string (nullable = true)\n",
       " |-- day: integer (nullable = true)\n",
       " |-- month: string (nullable = true)\n",
       " |-- duration: integer (nullable = true)\n",
       " |-- campaign: integer (nullable = true)\n",
       " |-- pdays: integer (nullable = true)\n",
       " |-- previous: integer (nullable = true)\n",
       " |-- poutcome: string (nullable = true)\n",
       " |-- y: string (nullable = true)\n",
       "\n"
      ]
     },
     "metadata": {
      "application/vnd.databricks.v1+output": {
       "addedWidgets": {},
       "arguments": {},
       "data": "root\n |-- age: integer (nullable = true)\n |-- job: string (nullable = true)\n |-- marital: string (nullable = true)\n |-- education: string (nullable = true)\n |-- default: string (nullable = true)\n |-- balance: integer (nullable = true)\n |-- housing: string (nullable = true)\n |-- loan: string (nullable = true)\n |-- contact: string (nullable = true)\n |-- day: integer (nullable = true)\n |-- month: string (nullable = true)\n |-- duration: integer (nullable = true)\n |-- campaign: integer (nullable = true)\n |-- pdays: integer (nullable = true)\n |-- previous: integer (nullable = true)\n |-- poutcome: string (nullable = true)\n |-- y: string (nullable = true)\n\n",
       "datasetInfos": [],
       "metadata": {},
       "removedWidgets": [],
       "type": "ansi"
      }
     },
     "output_type": "display_data"
    }
   ],
   "source": [
    "from pyspark.sql import SparkSession\n",
    "\n",
    "spark = SparkSession.builder.appName('ml-bank').getOrCreate()\n",
    "df = spark.read.csv('file:/databricks/driver/bank.csv', header=True, inferSchema=True, sep=';')\n",
    "df.printSchema()"
   ]
  },
  {
   "cell_type": "markdown",
   "metadata": {
    "application/vnd.databricks.v1+cell": {
     "inputWidgets": {},
     "nuid": "08b5bb73-fc91-4240-a31c-036605467e8f",
     "showTitle": false,
     "title": ""
    }
   },
   "source": [
    "Here are the columns you should see:\n",
    "\n",
    "* Input variables: age, job, marital, education, default, balance, housing, loan, contact, day, month, duration, campaign, pdays, previous, poutcome\n",
    "\n",
    "* Output variable: y (deposit)\n",
    "\n",
    "\n",
    "2. Have a peek of the first five observations. Use the `.show()` method."
   ]
  },
  {
   "cell_type": "code",
   "execution_count": null,
   "metadata": {
    "application/vnd.databricks.v1+cell": {
     "inputWidgets": {},
     "nuid": "a2d571ad-ad44-4d20-9407-e4ab149a7cd8",
     "showTitle": false,
     "title": ""
    }
   },
   "outputs": [
    {
     "data": {
      "text/plain": [
       "+---+-----------+-------+---------+-------+-------+-------+----+--------+---+-----+--------+--------+-----+--------+--------+---+\n",
       "|age|        job|marital|education|default|balance|housing|loan| contact|day|month|duration|campaign|pdays|previous|poutcome|  y|\n",
       "+---+-----------+-------+---------+-------+-------+-------+----+--------+---+-----+--------+--------+-----+--------+--------+---+\n",
       "| 30| unemployed|married|  primary|     no|   1787|     no|  no|cellular| 19|  oct|      79|       1|   -1|       0| unknown| no|\n",
       "| 33|   services|married|secondary|     no|   4789|    yes| yes|cellular| 11|  may|     220|       1|  339|       4| failure| no|\n",
       "| 35| management| single| tertiary|     no|   1350|    yes|  no|cellular| 16|  apr|     185|       1|  330|       1| failure| no|\n",
       "| 30| management|married| tertiary|     no|   1476|    yes| yes| unknown|  3|  jun|     199|       4|   -1|       0| unknown| no|\n",
       "| 59|blue-collar|married|secondary|     no|      0|    yes|  no| unknown|  5|  may|     226|       1|   -1|       0| unknown| no|\n",
       "+---+-----------+-------+---------+-------+-------+-------+----+--------+---+-----+--------+--------+-----+--------+--------+---+\n",
       "only showing top 5 rows\n",
       "\n"
      ]
     },
     "metadata": {
      "application/vnd.databricks.v1+output": {
       "addedWidgets": {},
       "arguments": {},
       "data": "+---+-----------+-------+---------+-------+-------+-------+----+--------+---+-----+--------+--------+-----+--------+--------+---+\n|age|        job|marital|education|default|balance|housing|loan| contact|day|month|duration|campaign|pdays|previous|poutcome|  y|\n+---+-----------+-------+---------+-------+-------+-------+----+--------+---+-----+--------+--------+-----+--------+--------+---+\n| 30| unemployed|married|  primary|     no|   1787|     no|  no|cellular| 19|  oct|      79|       1|   -1|       0| unknown| no|\n| 33|   services|married|secondary|     no|   4789|    yes| yes|cellular| 11|  may|     220|       1|  339|       4| failure| no|\n| 35| management| single| tertiary|     no|   1350|    yes|  no|cellular| 16|  apr|     185|       1|  330|       1| failure| no|\n| 30| management|married| tertiary|     no|   1476|    yes| yes| unknown|  3|  jun|     199|       4|   -1|       0| unknown| no|\n| 59|blue-collar|married|secondary|     no|      0|    yes|  no| unknown|  5|  may|     226|       1|   -1|       0| unknown| no|\n+---+-----------+-------+---------+-------+-------+-------+----+--------+---+-----+--------+--------+-----+--------+--------+---+\nonly showing top 5 rows\n\n",
       "datasetInfos": [],
       "metadata": {},
       "removedWidgets": [],
       "type": "ansi"
      }
     },
     "output_type": "display_data"
    }
   ],
   "source": [
    "# [YOUR CODE HERE]\n",
    "df.show(5)"
   ]
  },
  {
   "cell_type": "markdown",
   "metadata": {
    "application/vnd.databricks.v1+cell": {
     "inputWidgets": {},
     "nuid": "dc1d6aca-1bd0-4729-951e-8215e75d067c",
     "showTitle": false,
     "title": ""
    }
   },
   "source": [
    "To get a prettier result, it can be nice to use Pandas to display our DataFrame. Use the Spark `.take()` method to get the first 5 rows and then convert to a pandas DataFrame. Don't forget to pass along the column names. You should see the same result as above, but in a more aesthetically appealing format."
   ]
  },
  {
   "cell_type": "code",
   "execution_count": null,
   "metadata": {
    "application/vnd.databricks.v1+cell": {
     "inputWidgets": {},
     "nuid": "9abd6308-77f0-420b-a80a-03ef2928c963",
     "showTitle": false,
     "title": ""
    }
   },
   "outputs": [
    {
     "data": {
      "application/vnd.databricks.v1+bamboolib_hint": "{\"pd.DataFrames\": [], \"version\": \"0.0.1\"}",
      "text/plain": []
     },
     "metadata": {
      "application/vnd.databricks.v1+output": {
       "addedWidgets": {},
       "arguments": {},
       "data": {
        "application/vnd.databricks.v1+bamboolib_hint": "{\"pd.DataFrames\": [], \"version\": \"0.0.1\"}",
        "text/plain": ""
       },
       "datasetInfos": [],
       "metadata": {},
       "removedWidgets": [],
       "type": "mimeBundle"
      }
     },
     "output_type": "display_data"
    },
    {
     "data": {
      "text/html": [
       "<div>\n",
       "<style scoped>\n",
       "    .dataframe tbody tr th:only-of-type {\n",
       "        vertical-align: middle;\n",
       "    }\n",
       "\n",
       "    .dataframe tbody tr th {\n",
       "        vertical-align: top;\n",
       "    }\n",
       "\n",
       "    .dataframe thead th {\n",
       "        text-align: right;\n",
       "    }\n",
       "</style>\n",
       "<table border=\"1\" class=\"dataframe\">\n",
       "  <thead>\n",
       "    <tr style=\"text-align: right;\">\n",
       "      <th></th>\n",
       "      <th>age</th>\n",
       "      <th>job</th>\n",
       "      <th>marital</th>\n",
       "      <th>education</th>\n",
       "      <th>default</th>\n",
       "      <th>balance</th>\n",
       "      <th>housing</th>\n",
       "      <th>loan</th>\n",
       "      <th>contact</th>\n",
       "      <th>day</th>\n",
       "      <th>month</th>\n",
       "      <th>duration</th>\n",
       "      <th>campaign</th>\n",
       "      <th>pdays</th>\n",
       "      <th>previous</th>\n",
       "      <th>poutcome</th>\n",
       "      <th>y</th>\n",
       "    </tr>\n",
       "  </thead>\n",
       "  <tbody>\n",
       "    <tr>\n",
       "      <th>0</th>\n",
       "      <td>30</td>\n",
       "      <td>unemployed</td>\n",
       "      <td>married</td>\n",
       "      <td>primary</td>\n",
       "      <td>no</td>\n",
       "      <td>1787</td>\n",
       "      <td>no</td>\n",
       "      <td>no</td>\n",
       "      <td>cellular</td>\n",
       "      <td>19</td>\n",
       "      <td>oct</td>\n",
       "      <td>79</td>\n",
       "      <td>1</td>\n",
       "      <td>-1</td>\n",
       "      <td>0</td>\n",
       "      <td>unknown</td>\n",
       "      <td>no</td>\n",
       "    </tr>\n",
       "    <tr>\n",
       "      <th>1</th>\n",
       "      <td>33</td>\n",
       "      <td>services</td>\n",
       "      <td>married</td>\n",
       "      <td>secondary</td>\n",
       "      <td>no</td>\n",
       "      <td>4789</td>\n",
       "      <td>yes</td>\n",
       "      <td>yes</td>\n",
       "      <td>cellular</td>\n",
       "      <td>11</td>\n",
       "      <td>may</td>\n",
       "      <td>220</td>\n",
       "      <td>1</td>\n",
       "      <td>339</td>\n",
       "      <td>4</td>\n",
       "      <td>failure</td>\n",
       "      <td>no</td>\n",
       "    </tr>\n",
       "    <tr>\n",
       "      <th>2</th>\n",
       "      <td>35</td>\n",
       "      <td>management</td>\n",
       "      <td>single</td>\n",
       "      <td>tertiary</td>\n",
       "      <td>no</td>\n",
       "      <td>1350</td>\n",
       "      <td>yes</td>\n",
       "      <td>no</td>\n",
       "      <td>cellular</td>\n",
       "      <td>16</td>\n",
       "      <td>apr</td>\n",
       "      <td>185</td>\n",
       "      <td>1</td>\n",
       "      <td>330</td>\n",
       "      <td>1</td>\n",
       "      <td>failure</td>\n",
       "      <td>no</td>\n",
       "    </tr>\n",
       "    <tr>\n",
       "      <th>3</th>\n",
       "      <td>30</td>\n",
       "      <td>management</td>\n",
       "      <td>married</td>\n",
       "      <td>tertiary</td>\n",
       "      <td>no</td>\n",
       "      <td>1476</td>\n",
       "      <td>yes</td>\n",
       "      <td>yes</td>\n",
       "      <td>unknown</td>\n",
       "      <td>3</td>\n",
       "      <td>jun</td>\n",
       "      <td>199</td>\n",
       "      <td>4</td>\n",
       "      <td>-1</td>\n",
       "      <td>0</td>\n",
       "      <td>unknown</td>\n",
       "      <td>no</td>\n",
       "    </tr>\n",
       "    <tr>\n",
       "      <th>4</th>\n",
       "      <td>59</td>\n",
       "      <td>blue-collar</td>\n",
       "      <td>married</td>\n",
       "      <td>secondary</td>\n",
       "      <td>no</td>\n",
       "      <td>0</td>\n",
       "      <td>yes</td>\n",
       "      <td>no</td>\n",
       "      <td>unknown</td>\n",
       "      <td>5</td>\n",
       "      <td>may</td>\n",
       "      <td>226</td>\n",
       "      <td>1</td>\n",
       "      <td>-1</td>\n",
       "      <td>0</td>\n",
       "      <td>unknown</td>\n",
       "      <td>no</td>\n",
       "    </tr>\n",
       "  </tbody>\n",
       "</table>\n",
       "</div>"
      ]
     },
     "metadata": {
      "application/vnd.databricks.v1+output": {
       "addedWidgets": {},
       "arguments": {},
       "data": "<div>\n<style scoped>\n    .dataframe tbody tr th:only-of-type {\n        vertical-align: middle;\n    }\n\n    .dataframe tbody tr th {\n        vertical-align: top;\n    }\n\n    .dataframe thead th {\n        text-align: right;\n    }\n</style>\n<table border=\"1\" class=\"dataframe\">\n  <thead>\n    <tr style=\"text-align: right;\">\n      <th></th>\n      <th>age</th>\n      <th>job</th>\n      <th>marital</th>\n      <th>education</th>\n      <th>default</th>\n      <th>balance</th>\n      <th>housing</th>\n      <th>loan</th>\n      <th>contact</th>\n      <th>day</th>\n      <th>month</th>\n      <th>duration</th>\n      <th>campaign</th>\n      <th>pdays</th>\n      <th>previous</th>\n      <th>poutcome</th>\n      <th>y</th>\n    </tr>\n  </thead>\n  <tbody>\n    <tr>\n      <th>0</th>\n      <td>30</td>\n      <td>unemployed</td>\n      <td>married</td>\n      <td>primary</td>\n      <td>no</td>\n      <td>1787</td>\n      <td>no</td>\n      <td>no</td>\n      <td>cellular</td>\n      <td>19</td>\n      <td>oct</td>\n      <td>79</td>\n      <td>1</td>\n      <td>-1</td>\n      <td>0</td>\n      <td>unknown</td>\n      <td>no</td>\n    </tr>\n    <tr>\n      <th>1</th>\n      <td>33</td>\n      <td>services</td>\n      <td>married</td>\n      <td>secondary</td>\n      <td>no</td>\n      <td>4789</td>\n      <td>yes</td>\n      <td>yes</td>\n      <td>cellular</td>\n      <td>11</td>\n      <td>may</td>\n      <td>220</td>\n      <td>1</td>\n      <td>339</td>\n      <td>4</td>\n      <td>failure</td>\n      <td>no</td>\n    </tr>\n    <tr>\n      <th>2</th>\n      <td>35</td>\n      <td>management</td>\n      <td>single</td>\n      <td>tertiary</td>\n      <td>no</td>\n      <td>1350</td>\n      <td>yes</td>\n      <td>no</td>\n      <td>cellular</td>\n      <td>16</td>\n      <td>apr</td>\n      <td>185</td>\n      <td>1</td>\n      <td>330</td>\n      <td>1</td>\n      <td>failure</td>\n      <td>no</td>\n    </tr>\n    <tr>\n      <th>3</th>\n      <td>30</td>\n      <td>management</td>\n      <td>married</td>\n      <td>tertiary</td>\n      <td>no</td>\n      <td>1476</td>\n      <td>yes</td>\n      <td>yes</td>\n      <td>unknown</td>\n      <td>3</td>\n      <td>jun</td>\n      <td>199</td>\n      <td>4</td>\n      <td>-1</td>\n      <td>0</td>\n      <td>unknown</td>\n      <td>no</td>\n    </tr>\n    <tr>\n      <th>4</th>\n      <td>59</td>\n      <td>blue-collar</td>\n      <td>married</td>\n      <td>secondary</td>\n      <td>no</td>\n      <td>0</td>\n      <td>yes</td>\n      <td>no</td>\n      <td>unknown</td>\n      <td>5</td>\n      <td>may</td>\n      <td>226</td>\n      <td>1</td>\n      <td>-1</td>\n      <td>0</td>\n      <td>unknown</td>\n      <td>no</td>\n    </tr>\n  </tbody>\n</table>\n</div>",
       "datasetInfos": [],
       "metadata": {},
       "removedWidgets": [],
       "textData": null,
       "type": "htmlSandbox"
      }
     },
     "output_type": "display_data"
    }
   ],
   "source": [
    "import pandas as pd\n",
    "\n",
    "# [YOUR CODE HERE]\n",
    "pd.DataFrame(df.take(5), columns = df.columns)"
   ]
  },
  {
   "cell_type": "markdown",
   "metadata": {
    "application/vnd.databricks.v1+cell": {
     "inputWidgets": {},
     "nuid": "1a64a8ce-abff-4642-9645-8e643dfe7ed1",
     "showTitle": false,
     "title": ""
    }
   },
   "source": [
    "3. We can also perform transformations on our DataFrame using the Pandas commands that we know and love using the [Pandas on Spark API](https://spark.apache.org/docs/latest/api/python/user_guide/pandas_on_spark/index.html) **(new on Spark versions >= 3.2)**.  Pandas on Spark API was born out of the Databricks project, Koalas 🐨, allows us to use the Pandas commands and aesthetically pleasing output that we know and love distributed on the speed and scale of Spark!  For a nice quickstart on Pandas on Spark, check out this [article](https://towardsdatascience.com/run-pandas-as-fast-as-spark-f5eefe780c45)!  Let's convert our Spark DataFrame to a Pandas on Spark DataFrame!"
   ]
  },
  {
   "cell_type": "code",
   "execution_count": null,
   "metadata": {
    "application/vnd.databricks.v1+cell": {
     "inputWidgets": {},
     "nuid": "f75a06d9-822b-4188-8ebc-1023d770d625",
     "showTitle": false,
     "title": ""
    }
   },
   "outputs": [
    {
     "data": {
      "text/html": [
       "<div>\n",
       "<style scoped>\n",
       "    .dataframe tbody tr th:only-of-type {\n",
       "        vertical-align: middle;\n",
       "    }\n",
       "\n",
       "    .dataframe tbody tr th {\n",
       "        vertical-align: top;\n",
       "    }\n",
       "\n",
       "    .dataframe thead th {\n",
       "        text-align: right;\n",
       "    }\n",
       "</style>\n",
       "<table border=\"1\" class=\"dataframe\">\n",
       "  <thead>\n",
       "    <tr style=\"text-align: right;\">\n",
       "      <th></th>\n",
       "      <th>age</th>\n",
       "      <th>job</th>\n",
       "      <th>marital</th>\n",
       "      <th>education</th>\n",
       "      <th>default</th>\n",
       "      <th>balance</th>\n",
       "      <th>housing</th>\n",
       "      <th>loan</th>\n",
       "      <th>contact</th>\n",
       "      <th>day</th>\n",
       "      <th>month</th>\n",
       "      <th>duration</th>\n",
       "      <th>campaign</th>\n",
       "      <th>pdays</th>\n",
       "      <th>previous</th>\n",
       "      <th>poutcome</th>\n",
       "      <th>y</th>\n",
       "    </tr>\n",
       "  </thead>\n",
       "  <tbody>\n",
       "    <tr>\n",
       "      <th>0</th>\n",
       "      <td>30</td>\n",
       "      <td>unemployed</td>\n",
       "      <td>married</td>\n",
       "      <td>primary</td>\n",
       "      <td>no</td>\n",
       "      <td>1787</td>\n",
       "      <td>no</td>\n",
       "      <td>no</td>\n",
       "      <td>cellular</td>\n",
       "      <td>19</td>\n",
       "      <td>oct</td>\n",
       "      <td>79</td>\n",
       "      <td>1</td>\n",
       "      <td>-1</td>\n",
       "      <td>0</td>\n",
       "      <td>unknown</td>\n",
       "      <td>no</td>\n",
       "    </tr>\n",
       "    <tr>\n",
       "      <th>1</th>\n",
       "      <td>33</td>\n",
       "      <td>services</td>\n",
       "      <td>married</td>\n",
       "      <td>secondary</td>\n",
       "      <td>no</td>\n",
       "      <td>4789</td>\n",
       "      <td>yes</td>\n",
       "      <td>yes</td>\n",
       "      <td>cellular</td>\n",
       "      <td>11</td>\n",
       "      <td>may</td>\n",
       "      <td>220</td>\n",
       "      <td>1</td>\n",
       "      <td>339</td>\n",
       "      <td>4</td>\n",
       "      <td>failure</td>\n",
       "      <td>no</td>\n",
       "    </tr>\n",
       "    <tr>\n",
       "      <th>2</th>\n",
       "      <td>35</td>\n",
       "      <td>management</td>\n",
       "      <td>single</td>\n",
       "      <td>tertiary</td>\n",
       "      <td>no</td>\n",
       "      <td>1350</td>\n",
       "      <td>yes</td>\n",
       "      <td>no</td>\n",
       "      <td>cellular</td>\n",
       "      <td>16</td>\n",
       "      <td>apr</td>\n",
       "      <td>185</td>\n",
       "      <td>1</td>\n",
       "      <td>330</td>\n",
       "      <td>1</td>\n",
       "      <td>failure</td>\n",
       "      <td>no</td>\n",
       "    </tr>\n",
       "    <tr>\n",
       "      <th>3</th>\n",
       "      <td>30</td>\n",
       "      <td>management</td>\n",
       "      <td>married</td>\n",
       "      <td>tertiary</td>\n",
       "      <td>no</td>\n",
       "      <td>1476</td>\n",
       "      <td>yes</td>\n",
       "      <td>yes</td>\n",
       "      <td>unknown</td>\n",
       "      <td>3</td>\n",
       "      <td>jun</td>\n",
       "      <td>199</td>\n",
       "      <td>4</td>\n",
       "      <td>-1</td>\n",
       "      <td>0</td>\n",
       "      <td>unknown</td>\n",
       "      <td>no</td>\n",
       "    </tr>\n",
       "    <tr>\n",
       "      <th>4</th>\n",
       "      <td>59</td>\n",
       "      <td>blue-collar</td>\n",
       "      <td>married</td>\n",
       "      <td>secondary</td>\n",
       "      <td>no</td>\n",
       "      <td>0</td>\n",
       "      <td>yes</td>\n",
       "      <td>no</td>\n",
       "      <td>unknown</td>\n",
       "      <td>5</td>\n",
       "      <td>may</td>\n",
       "      <td>226</td>\n",
       "      <td>1</td>\n",
       "      <td>-1</td>\n",
       "      <td>0</td>\n",
       "      <td>unknown</td>\n",
       "      <td>no</td>\n",
       "    </tr>\n",
       "  </tbody>\n",
       "</table>\n",
       "</div>"
      ]
     },
     "metadata": {
      "application/vnd.databricks.v1+output": {
       "addedWidgets": {},
       "arguments": {},
       "data": "<div>\n<style scoped>\n    .dataframe tbody tr th:only-of-type {\n        vertical-align: middle;\n    }\n\n    .dataframe tbody tr th {\n        vertical-align: top;\n    }\n\n    .dataframe thead th {\n        text-align: right;\n    }\n</style>\n<table border=\"1\" class=\"dataframe\">\n  <thead>\n    <tr style=\"text-align: right;\">\n      <th></th>\n      <th>age</th>\n      <th>job</th>\n      <th>marital</th>\n      <th>education</th>\n      <th>default</th>\n      <th>balance</th>\n      <th>housing</th>\n      <th>loan</th>\n      <th>contact</th>\n      <th>day</th>\n      <th>month</th>\n      <th>duration</th>\n      <th>campaign</th>\n      <th>pdays</th>\n      <th>previous</th>\n      <th>poutcome</th>\n      <th>y</th>\n    </tr>\n  </thead>\n  <tbody>\n    <tr>\n      <th>0</th>\n      <td>30</td>\n      <td>unemployed</td>\n      <td>married</td>\n      <td>primary</td>\n      <td>no</td>\n      <td>1787</td>\n      <td>no</td>\n      <td>no</td>\n      <td>cellular</td>\n      <td>19</td>\n      <td>oct</td>\n      <td>79</td>\n      <td>1</td>\n      <td>-1</td>\n      <td>0</td>\n      <td>unknown</td>\n      <td>no</td>\n    </tr>\n    <tr>\n      <th>1</th>\n      <td>33</td>\n      <td>services</td>\n      <td>married</td>\n      <td>secondary</td>\n      <td>no</td>\n      <td>4789</td>\n      <td>yes</td>\n      <td>yes</td>\n      <td>cellular</td>\n      <td>11</td>\n      <td>may</td>\n      <td>220</td>\n      <td>1</td>\n      <td>339</td>\n      <td>4</td>\n      <td>failure</td>\n      <td>no</td>\n    </tr>\n    <tr>\n      <th>2</th>\n      <td>35</td>\n      <td>management</td>\n      <td>single</td>\n      <td>tertiary</td>\n      <td>no</td>\n      <td>1350</td>\n      <td>yes</td>\n      <td>no</td>\n      <td>cellular</td>\n      <td>16</td>\n      <td>apr</td>\n      <td>185</td>\n      <td>1</td>\n      <td>330</td>\n      <td>1</td>\n      <td>failure</td>\n      <td>no</td>\n    </tr>\n    <tr>\n      <th>3</th>\n      <td>30</td>\n      <td>management</td>\n      <td>married</td>\n      <td>tertiary</td>\n      <td>no</td>\n      <td>1476</td>\n      <td>yes</td>\n      <td>yes</td>\n      <td>unknown</td>\n      <td>3</td>\n      <td>jun</td>\n      <td>199</td>\n      <td>4</td>\n      <td>-1</td>\n      <td>0</td>\n      <td>unknown</td>\n      <td>no</td>\n    </tr>\n    <tr>\n      <th>4</th>\n      <td>59</td>\n      <td>blue-collar</td>\n      <td>married</td>\n      <td>secondary</td>\n      <td>no</td>\n      <td>0</td>\n      <td>yes</td>\n      <td>no</td>\n      <td>unknown</td>\n      <td>5</td>\n      <td>may</td>\n      <td>226</td>\n      <td>1</td>\n      <td>-1</td>\n      <td>0</td>\n      <td>unknown</td>\n      <td>no</td>\n    </tr>\n  </tbody>\n</table>\n</div>",
       "datasetInfos": [],
       "metadata": {},
       "removedWidgets": [],
       "textData": null,
       "type": "htmlSandbox"
      }
     },
     "output_type": "display_data"
    }
   ],
   "source": [
    "import pyspark.pandas as ps\n",
    "\n",
    "psdf = df.pandas_api()  # did not work on Spark 3.2.1, works on 3.3.0\n",
    "# psdf = df.to_pandas_on_spark()  # worked on Spark 3.2.1\n",
    "psdf.head(5)"
   ]
  },
  {
   "cell_type": "markdown",
   "metadata": {
    "application/vnd.databricks.v1+cell": {
     "inputWidgets": {},
     "nuid": "f7c0debf-91aa-4829-8f8d-4a6f858505c8",
     "showTitle": false,
     "title": ""
    }
   },
   "source": [
    "4. How many datapoints are there in the dataset? Use the `.count()` method."
   ]
  },
  {
   "cell_type": "code",
   "execution_count": null,
   "metadata": {
    "application/vnd.databricks.v1+cell": {
     "inputWidgets": {},
     "nuid": "d2bccb04-2a21-4053-bac9-44db61d30a14",
     "showTitle": false,
     "title": ""
    }
   },
   "outputs": [
    {
     "data": {
      "text/plain": [
       "4521\n"
      ]
     },
     "metadata": {
      "application/vnd.databricks.v1+output": {
       "addedWidgets": {},
       "arguments": {},
       "data": "4521\n",
       "datasetInfos": [],
       "metadata": {},
       "removedWidgets": [],
       "type": "ansi"
      }
     },
     "output_type": "display_data"
    }
   ],
   "source": [
    "# [YOUR CODE HERE]\n",
    "print(df.count())"
   ]
  },
  {
   "cell_type": "markdown",
   "metadata": {
    "application/vnd.databricks.v1+cell": {
     "inputWidgets": {},
     "nuid": "68420797-65e6-4a3e-8036-4e6cad95bab0",
     "showTitle": false,
     "title": ""
    }
   },
   "source": [
    "5. Use the `.describe()` method to see summary statistics on the features.\n",
    "\n",
    "    Note that the result of `.describe()` is a Spark DataFrame, so the contents won't be displayed. It only has 5 rows, so you can just convert the whole thing to a pandas DataFrame with `.toPandas()`."
   ]
  },
  {
   "cell_type": "code",
   "execution_count": null,
   "metadata": {
    "application/vnd.databricks.v1+cell": {
     "inputWidgets": {},
     "nuid": "762ecc1d-e55e-4057-800f-27002e0d0b53",
     "showTitle": false,
     "title": ""
    }
   },
   "outputs": [],
   "source": [
    "# to print multiple outputs\n",
    "from IPython.core.interactiveshell import InteractiveShell\n",
    "InteractiveShell.ast_node_interactivity = 'all'\n"
   ]
  },
  {
   "cell_type": "code",
   "execution_count": null,
   "metadata": {
    "application/vnd.databricks.v1+cell": {
     "inputWidgets": {},
     "nuid": "73dd51c2-7e31-4382-8384-5679837b3e8a",
     "showTitle": false,
     "title": ""
    }
   },
   "outputs": [
    {
     "data": {
      "text/plain": [
       "Out[11]: DataFrame[summary: string, age: string, job: string, marital: string, education: string, default: string, balance: string, housing: string, loan: string, contact: string, day: string, month: string, duration: string, campaign: string, pdays: string, previous: string, poutcome: string, y: string]"
      ]
     },
     "metadata": {
      "application/vnd.databricks.v1+output": {
       "addedWidgets": {},
       "arguments": {},
       "data": "Out[11]: DataFrame[summary: string, age: string, job: string, marital: string, education: string, default: string, balance: string, housing: string, loan: string, contact: string, day: string, month: string, duration: string, campaign: string, pdays: string, previous: string, poutcome: string, y: string]",
       "datasetInfos": [],
       "metadata": {},
       "removedWidgets": [],
       "type": "ansi"
      }
     },
     "output_type": "display_data"
    },
    {
     "data": {
      "text/html": [
       "<style scoped>\n",
       "  .table-result-container {\n",
       "    max-height: 300px;\n",
       "    overflow: auto;\n",
       "  }\n",
       "  table, th, td {\n",
       "    border: 1px solid black;\n",
       "    border-collapse: collapse;\n",
       "  }\n",
       "  th, td {\n",
       "    padding: 5px;\n",
       "  }\n",
       "  th {\n",
       "    text-align: left;\n",
       "  }\n",
       "</style><div class='table-result-container'><table class='table-result'><thead style='background-color: white'><tr><th>summary</th><th>age</th><th>job</th><th>marital</th><th>education</th><th>default</th><th>balance</th><th>housing</th><th>loan</th><th>contact</th><th>day</th><th>month</th><th>duration</th><th>campaign</th><th>pdays</th><th>previous</th><th>poutcome</th><th>y</th></tr></thead><tbody><tr><td>count</td><td>4521</td><td>4521</td><td>4521</td><td>4521</td><td>4521</td><td>4521</td><td>4521</td><td>4521</td><td>4521</td><td>4521</td><td>4521</td><td>4521</td><td>4521</td><td>4521</td><td>4521</td><td>4521</td><td>4521</td></tr><tr><td>mean</td><td>41.17009511170095</td><td>null</td><td>null</td><td>null</td><td>null</td><td>1422.6578190665782</td><td>null</td><td>null</td><td>null</td><td>15.915284229152842</td><td>null</td><td>263.96129174961294</td><td>2.793629727936297</td><td>39.766644547666445</td><td>0.5425790754257908</td><td>null</td><td>null</td></tr><tr><td>stddev</td><td>10.576210958711263</td><td>null</td><td>null</td><td>null</td><td>null</td><td>3009.6381424673395</td><td>null</td><td>null</td><td>null</td><td>8.247667327229934</td><td>null</td><td>259.85663262468216</td><td>3.1098066601885823</td><td>100.12112444301656</td><td>1.6935623506071211</td><td>null</td><td>null</td></tr><tr><td>min</td><td>19</td><td>admin.</td><td>divorced</td><td>primary</td><td>no</td><td>-3313</td><td>no</td><td>no</td><td>cellular</td><td>1</td><td>apr</td><td>4</td><td>1</td><td>-1</td><td>0</td><td>failure</td><td>no</td></tr><tr><td>max</td><td>87</td><td>unknown</td><td>single</td><td>unknown</td><td>yes</td><td>71188</td><td>yes</td><td>yes</td><td>unknown</td><td>31</td><td>sep</td><td>3025</td><td>50</td><td>871</td><td>25</td><td>unknown</td><td>yes</td></tr></tbody></table></div>"
      ]
     },
     "metadata": {
      "application/vnd.databricks.v1+output": {
       "addedWidgets": {},
       "aggData": [],
       "aggError": "",
       "aggOverflow": false,
       "aggSchema": [],
       "aggSeriesLimitReached": false,
       "aggType": "",
       "arguments": {},
       "columnCustomDisplayInfos": {},
       "data": [
        [
         "count",
         "4521",
         "4521",
         "4521",
         "4521",
         "4521",
         "4521",
         "4521",
         "4521",
         "4521",
         "4521",
         "4521",
         "4521",
         "4521",
         "4521",
         "4521",
         "4521",
         "4521"
        ],
        [
         "mean",
         "41.17009511170095",
         null,
         null,
         null,
         null,
         "1422.6578190665782",
         null,
         null,
         null,
         "15.915284229152842",
         null,
         "263.96129174961294",
         "2.793629727936297",
         "39.766644547666445",
         "0.5425790754257908",
         null,
         null
        ],
        [
         "stddev",
         "10.576210958711263",
         null,
         null,
         null,
         null,
         "3009.6381424673395",
         null,
         null,
         null,
         "8.247667327229934",
         null,
         "259.85663262468216",
         "3.1098066601885823",
         "100.12112444301656",
         "1.6935623506071211",
         null,
         null
        ],
        [
         "min",
         "19",
         "admin.",
         "divorced",
         "primary",
         "no",
         "-3313",
         "no",
         "no",
         "cellular",
         "1",
         "apr",
         "4",
         "1",
         "-1",
         "0",
         "failure",
         "no"
        ],
        [
         "max",
         "87",
         "unknown",
         "single",
         "unknown",
         "yes",
         "71188",
         "yes",
         "yes",
         "unknown",
         "31",
         "sep",
         "3025",
         "50",
         "871",
         "25",
         "unknown",
         "yes"
        ]
       ],
       "datasetInfos": [],
       "dbfsResultPath": null,
       "isJsonSchema": true,
       "metadata": {},
       "overflow": false,
       "plotOptions": {
        "customPlotOptions": {},
        "displayType": "table",
        "pivotAggregation": null,
        "pivotColumns": null,
        "xColumns": null,
        "yColumns": null
       },
       "removedWidgets": [],
       "schema": [
        {
         "metadata": "{}",
         "name": "summary",
         "type": "\"string\""
        },
        {
         "metadata": "{}",
         "name": "age",
         "type": "\"string\""
        },
        {
         "metadata": "{}",
         "name": "job",
         "type": "\"string\""
        },
        {
         "metadata": "{}",
         "name": "marital",
         "type": "\"string\""
        },
        {
         "metadata": "{}",
         "name": "education",
         "type": "\"string\""
        },
        {
         "metadata": "{}",
         "name": "default",
         "type": "\"string\""
        },
        {
         "metadata": "{}",
         "name": "balance",
         "type": "\"string\""
        },
        {
         "metadata": "{}",
         "name": "housing",
         "type": "\"string\""
        },
        {
         "metadata": "{}",
         "name": "loan",
         "type": "\"string\""
        },
        {
         "metadata": "{}",
         "name": "contact",
         "type": "\"string\""
        },
        {
         "metadata": "{}",
         "name": "day",
         "type": "\"string\""
        },
        {
         "metadata": "{}",
         "name": "month",
         "type": "\"string\""
        },
        {
         "metadata": "{}",
         "name": "duration",
         "type": "\"string\""
        },
        {
         "metadata": "{}",
         "name": "campaign",
         "type": "\"string\""
        },
        {
         "metadata": "{}",
         "name": "pdays",
         "type": "\"string\""
        },
        {
         "metadata": "{}",
         "name": "previous",
         "type": "\"string\""
        },
        {
         "metadata": "{}",
         "name": "poutcome",
         "type": "\"string\""
        },
        {
         "metadata": "{}",
         "name": "y",
         "type": "\"string\""
        }
       ],
       "type": "table"
      }
     },
     "output_type": "display_data"
    },
    {
     "data": {
      "text/html": [
       "<div>\n",
       "<style scoped>\n",
       "    .dataframe tbody tr th:only-of-type {\n",
       "        vertical-align: middle;\n",
       "    }\n",
       "\n",
       "    .dataframe tbody tr th {\n",
       "        vertical-align: top;\n",
       "    }\n",
       "\n",
       "    .dataframe thead th {\n",
       "        text-align: right;\n",
       "    }\n",
       "</style>\n",
       "<table border=\"1\" class=\"dataframe\">\n",
       "  <thead>\n",
       "    <tr style=\"text-align: right;\">\n",
       "      <th></th>\n",
       "      <th>summary</th>\n",
       "      <th>age</th>\n",
       "      <th>job</th>\n",
       "      <th>marital</th>\n",
       "      <th>education</th>\n",
       "      <th>default</th>\n",
       "      <th>balance</th>\n",
       "      <th>housing</th>\n",
       "      <th>loan</th>\n",
       "      <th>contact</th>\n",
       "      <th>day</th>\n",
       "      <th>month</th>\n",
       "      <th>duration</th>\n",
       "      <th>campaign</th>\n",
       "      <th>pdays</th>\n",
       "      <th>previous</th>\n",
       "      <th>poutcome</th>\n",
       "      <th>y</th>\n",
       "    </tr>\n",
       "  </thead>\n",
       "  <tbody>\n",
       "    <tr>\n",
       "      <th>0</th>\n",
       "      <td>count</td>\n",
       "      <td>4521</td>\n",
       "      <td>4521</td>\n",
       "      <td>4521</td>\n",
       "      <td>4521</td>\n",
       "      <td>4521</td>\n",
       "      <td>4521</td>\n",
       "      <td>4521</td>\n",
       "      <td>4521</td>\n",
       "      <td>4521</td>\n",
       "      <td>4521</td>\n",
       "      <td>4521</td>\n",
       "      <td>4521</td>\n",
       "      <td>4521</td>\n",
       "      <td>4521</td>\n",
       "      <td>4521</td>\n",
       "      <td>4521</td>\n",
       "      <td>4521</td>\n",
       "    </tr>\n",
       "    <tr>\n",
       "      <th>1</th>\n",
       "      <td>mean</td>\n",
       "      <td>41.17009511170095</td>\n",
       "      <td>None</td>\n",
       "      <td>None</td>\n",
       "      <td>None</td>\n",
       "      <td>None</td>\n",
       "      <td>1422.6578190665782</td>\n",
       "      <td>None</td>\n",
       "      <td>None</td>\n",
       "      <td>None</td>\n",
       "      <td>15.915284229152842</td>\n",
       "      <td>None</td>\n",
       "      <td>263.96129174961294</td>\n",
       "      <td>2.793629727936297</td>\n",
       "      <td>39.766644547666445</td>\n",
       "      <td>0.5425790754257908</td>\n",
       "      <td>None</td>\n",
       "      <td>None</td>\n",
       "    </tr>\n",
       "    <tr>\n",
       "      <th>2</th>\n",
       "      <td>stddev</td>\n",
       "      <td>10.576210958711263</td>\n",
       "      <td>None</td>\n",
       "      <td>None</td>\n",
       "      <td>None</td>\n",
       "      <td>None</td>\n",
       "      <td>3009.6381424673395</td>\n",
       "      <td>None</td>\n",
       "      <td>None</td>\n",
       "      <td>None</td>\n",
       "      <td>8.247667327229934</td>\n",
       "      <td>None</td>\n",
       "      <td>259.85663262468216</td>\n",
       "      <td>3.1098066601885823</td>\n",
       "      <td>100.12112444301656</td>\n",
       "      <td>1.6935623506071211</td>\n",
       "      <td>None</td>\n",
       "      <td>None</td>\n",
       "    </tr>\n",
       "    <tr>\n",
       "      <th>3</th>\n",
       "      <td>min</td>\n",
       "      <td>19</td>\n",
       "      <td>admin.</td>\n",
       "      <td>divorced</td>\n",
       "      <td>primary</td>\n",
       "      <td>no</td>\n",
       "      <td>-3313</td>\n",
       "      <td>no</td>\n",
       "      <td>no</td>\n",
       "      <td>cellular</td>\n",
       "      <td>1</td>\n",
       "      <td>apr</td>\n",
       "      <td>4</td>\n",
       "      <td>1</td>\n",
       "      <td>-1</td>\n",
       "      <td>0</td>\n",
       "      <td>failure</td>\n",
       "      <td>no</td>\n",
       "    </tr>\n",
       "    <tr>\n",
       "      <th>4</th>\n",
       "      <td>max</td>\n",
       "      <td>87</td>\n",
       "      <td>unknown</td>\n",
       "      <td>single</td>\n",
       "      <td>unknown</td>\n",
       "      <td>yes</td>\n",
       "      <td>71188</td>\n",
       "      <td>yes</td>\n",
       "      <td>yes</td>\n",
       "      <td>unknown</td>\n",
       "      <td>31</td>\n",
       "      <td>sep</td>\n",
       "      <td>3025</td>\n",
       "      <td>50</td>\n",
       "      <td>871</td>\n",
       "      <td>25</td>\n",
       "      <td>unknown</td>\n",
       "      <td>yes</td>\n",
       "    </tr>\n",
       "  </tbody>\n",
       "</table>\n",
       "</div>"
      ]
     },
     "metadata": {
      "application/vnd.databricks.v1+output": {
       "addedWidgets": {},
       "arguments": {},
       "data": "<div>\n<style scoped>\n    .dataframe tbody tr th:only-of-type {\n        vertical-align: middle;\n    }\n\n    .dataframe tbody tr th {\n        vertical-align: top;\n    }\n\n    .dataframe thead th {\n        text-align: right;\n    }\n</style>\n<table border=\"1\" class=\"dataframe\">\n  <thead>\n    <tr style=\"text-align: right;\">\n      <th></th>\n      <th>summary</th>\n      <th>age</th>\n      <th>job</th>\n      <th>marital</th>\n      <th>education</th>\n      <th>default</th>\n      <th>balance</th>\n      <th>housing</th>\n      <th>loan</th>\n      <th>contact</th>\n      <th>day</th>\n      <th>month</th>\n      <th>duration</th>\n      <th>campaign</th>\n      <th>pdays</th>\n      <th>previous</th>\n      <th>poutcome</th>\n      <th>y</th>\n    </tr>\n  </thead>\n  <tbody>\n    <tr>\n      <th>0</th>\n      <td>count</td>\n      <td>4521</td>\n      <td>4521</td>\n      <td>4521</td>\n      <td>4521</td>\n      <td>4521</td>\n      <td>4521</td>\n      <td>4521</td>\n      <td>4521</td>\n      <td>4521</td>\n      <td>4521</td>\n      <td>4521</td>\n      <td>4521</td>\n      <td>4521</td>\n      <td>4521</td>\n      <td>4521</td>\n      <td>4521</td>\n      <td>4521</td>\n    </tr>\n    <tr>\n      <th>1</th>\n      <td>mean</td>\n      <td>41.17009511170095</td>\n      <td>None</td>\n      <td>None</td>\n      <td>None</td>\n      <td>None</td>\n      <td>1422.6578190665782</td>\n      <td>None</td>\n      <td>None</td>\n      <td>None</td>\n      <td>15.915284229152842</td>\n      <td>None</td>\n      <td>263.96129174961294</td>\n      <td>2.793629727936297</td>\n      <td>39.766644547666445</td>\n      <td>0.5425790754257908</td>\n      <td>None</td>\n      <td>None</td>\n    </tr>\n    <tr>\n      <th>2</th>\n      <td>stddev</td>\n      <td>10.576210958711263</td>\n      <td>None</td>\n      <td>None</td>\n      <td>None</td>\n      <td>None</td>\n      <td>3009.6381424673395</td>\n      <td>None</td>\n      <td>None</td>\n      <td>None</td>\n      <td>8.247667327229934</td>\n      <td>None</td>\n      <td>259.85663262468216</td>\n      <td>3.1098066601885823</td>\n      <td>100.12112444301656</td>\n      <td>1.6935623506071211</td>\n      <td>None</td>\n      <td>None</td>\n    </tr>\n    <tr>\n      <th>3</th>\n      <td>min</td>\n      <td>19</td>\n      <td>admin.</td>\n      <td>divorced</td>\n      <td>primary</td>\n      <td>no</td>\n      <td>-3313</td>\n      <td>no</td>\n      <td>no</td>\n      <td>cellular</td>\n      <td>1</td>\n      <td>apr</td>\n      <td>4</td>\n      <td>1</td>\n      <td>-1</td>\n      <td>0</td>\n      <td>failure</td>\n      <td>no</td>\n    </tr>\n    <tr>\n      <th>4</th>\n      <td>max</td>\n      <td>87</td>\n      <td>unknown</td>\n      <td>single</td>\n      <td>unknown</td>\n      <td>yes</td>\n      <td>71188</td>\n      <td>yes</td>\n      <td>yes</td>\n      <td>unknown</td>\n      <td>31</td>\n      <td>sep</td>\n      <td>3025</td>\n      <td>50</td>\n      <td>871</td>\n      <td>25</td>\n      <td>unknown</td>\n      <td>yes</td>\n    </tr>\n  </tbody>\n</table>\n</div>",
       "datasetInfos": [],
       "metadata": {},
       "removedWidgets": [],
       "textData": null,
       "type": "htmlSandbox"
      }
     },
     "output_type": "display_data"
    },
    {
     "data": {
      "text/html": [
       "<div>\n",
       "<style scoped>\n",
       "    .dataframe tbody tr th:only-of-type {\n",
       "        vertical-align: middle;\n",
       "    }\n",
       "\n",
       "    .dataframe tbody tr th {\n",
       "        vertical-align: top;\n",
       "    }\n",
       "\n",
       "    .dataframe thead th {\n",
       "        text-align: right;\n",
       "    }\n",
       "</style>\n",
       "<table border=\"1\" class=\"dataframe\">\n",
       "  <thead>\n",
       "    <tr style=\"text-align: right;\">\n",
       "      <th></th>\n",
       "      <th>age</th>\n",
       "      <th>balance</th>\n",
       "      <th>day</th>\n",
       "      <th>duration</th>\n",
       "      <th>campaign</th>\n",
       "      <th>pdays</th>\n",
       "      <th>previous</th>\n",
       "    </tr>\n",
       "  </thead>\n",
       "  <tbody>\n",
       "    <tr>\n",
       "      <th>count</th>\n",
       "      <td>4521.000000</td>\n",
       "      <td>4521.000000</td>\n",
       "      <td>4521.000000</td>\n",
       "      <td>4521.000000</td>\n",
       "      <td>4521.000000</td>\n",
       "      <td>4521.000000</td>\n",
       "      <td>4521.000000</td>\n",
       "    </tr>\n",
       "    <tr>\n",
       "      <th>mean</th>\n",
       "      <td>41.170095</td>\n",
       "      <td>1422.657819</td>\n",
       "      <td>15.915284</td>\n",
       "      <td>263.961292</td>\n",
       "      <td>2.793630</td>\n",
       "      <td>39.766645</td>\n",
       "      <td>0.542579</td>\n",
       "    </tr>\n",
       "    <tr>\n",
       "      <th>std</th>\n",
       "      <td>10.576211</td>\n",
       "      <td>3009.638142</td>\n",
       "      <td>8.247667</td>\n",
       "      <td>259.856633</td>\n",
       "      <td>3.109807</td>\n",
       "      <td>100.121124</td>\n",
       "      <td>1.693562</td>\n",
       "    </tr>\n",
       "    <tr>\n",
       "      <th>min</th>\n",
       "      <td>19.000000</td>\n",
       "      <td>-3313.000000</td>\n",
       "      <td>1.000000</td>\n",
       "      <td>4.000000</td>\n",
       "      <td>1.000000</td>\n",
       "      <td>-1.000000</td>\n",
       "      <td>0.000000</td>\n",
       "    </tr>\n",
       "    <tr>\n",
       "      <th>25%</th>\n",
       "      <td>33.000000</td>\n",
       "      <td>69.000000</td>\n",
       "      <td>9.000000</td>\n",
       "      <td>104.000000</td>\n",
       "      <td>1.000000</td>\n",
       "      <td>-1.000000</td>\n",
       "      <td>0.000000</td>\n",
       "    </tr>\n",
       "    <tr>\n",
       "      <th>50%</th>\n",
       "      <td>39.000000</td>\n",
       "      <td>444.000000</td>\n",
       "      <td>16.000000</td>\n",
       "      <td>185.000000</td>\n",
       "      <td>2.000000</td>\n",
       "      <td>-1.000000</td>\n",
       "      <td>0.000000</td>\n",
       "    </tr>\n",
       "    <tr>\n",
       "      <th>75%</th>\n",
       "      <td>49.000000</td>\n",
       "      <td>1480.000000</td>\n",
       "      <td>21.000000</td>\n",
       "      <td>329.000000</td>\n",
       "      <td>3.000000</td>\n",
       "      <td>-1.000000</td>\n",
       "      <td>0.000000</td>\n",
       "    </tr>\n",
       "    <tr>\n",
       "      <th>max</th>\n",
       "      <td>87.000000</td>\n",
       "      <td>71188.000000</td>\n",
       "      <td>31.000000</td>\n",
       "      <td>3025.000000</td>\n",
       "      <td>50.000000</td>\n",
       "      <td>871.000000</td>\n",
       "      <td>25.000000</td>\n",
       "    </tr>\n",
       "  </tbody>\n",
       "</table>\n",
       "</div>"
      ]
     },
     "metadata": {
      "application/vnd.databricks.v1+output": {
       "addedWidgets": {},
       "arguments": {},
       "data": "<div>\n<style scoped>\n    .dataframe tbody tr th:only-of-type {\n        vertical-align: middle;\n    }\n\n    .dataframe tbody tr th {\n        vertical-align: top;\n    }\n\n    .dataframe thead th {\n        text-align: right;\n    }\n</style>\n<table border=\"1\" class=\"dataframe\">\n  <thead>\n    <tr style=\"text-align: right;\">\n      <th></th>\n      <th>age</th>\n      <th>balance</th>\n      <th>day</th>\n      <th>duration</th>\n      <th>campaign</th>\n      <th>pdays</th>\n      <th>previous</th>\n    </tr>\n  </thead>\n  <tbody>\n    <tr>\n      <th>count</th>\n      <td>4521.000000</td>\n      <td>4521.000000</td>\n      <td>4521.000000</td>\n      <td>4521.000000</td>\n      <td>4521.000000</td>\n      <td>4521.000000</td>\n      <td>4521.000000</td>\n    </tr>\n    <tr>\n      <th>mean</th>\n      <td>41.170095</td>\n      <td>1422.657819</td>\n      <td>15.915284</td>\n      <td>263.961292</td>\n      <td>2.793630</td>\n      <td>39.766645</td>\n      <td>0.542579</td>\n    </tr>\n    <tr>\n      <th>std</th>\n      <td>10.576211</td>\n      <td>3009.638142</td>\n      <td>8.247667</td>\n      <td>259.856633</td>\n      <td>3.109807</td>\n      <td>100.121124</td>\n      <td>1.693562</td>\n    </tr>\n    <tr>\n      <th>min</th>\n      <td>19.000000</td>\n      <td>-3313.000000</td>\n      <td>1.000000</td>\n      <td>4.000000</td>\n      <td>1.000000</td>\n      <td>-1.000000</td>\n      <td>0.000000</td>\n    </tr>\n    <tr>\n      <th>25%</th>\n      <td>33.000000</td>\n      <td>69.000000</td>\n      <td>9.000000</td>\n      <td>104.000000</td>\n      <td>1.000000</td>\n      <td>-1.000000</td>\n      <td>0.000000</td>\n    </tr>\n    <tr>\n      <th>50%</th>\n      <td>39.000000</td>\n      <td>444.000000</td>\n      <td>16.000000</td>\n      <td>185.000000</td>\n      <td>2.000000</td>\n      <td>-1.000000</td>\n      <td>0.000000</td>\n    </tr>\n    <tr>\n      <th>75%</th>\n      <td>49.000000</td>\n      <td>1480.000000</td>\n      <td>21.000000</td>\n      <td>329.000000</td>\n      <td>3.000000</td>\n      <td>-1.000000</td>\n      <td>0.000000</td>\n    </tr>\n    <tr>\n      <th>max</th>\n      <td>87.000000</td>\n      <td>71188.000000</td>\n      <td>31.000000</td>\n      <td>3025.000000</td>\n      <td>50.000000</td>\n      <td>871.000000</td>\n      <td>25.000000</td>\n    </tr>\n  </tbody>\n</table>\n</div>",
       "datasetInfos": [],
       "metadata": {},
       "removedWidgets": [],
       "textData": null,
       "type": "htmlSandbox"
      }
     },
     "output_type": "display_data"
    }
   ],
   "source": [
    "# [YOUR CODE HERE]\n",
    "\n",
    "# Spark Dataframe\n",
    "df.describe()\n",
    "# Display Spark DataFrame\n",
    "display(df.describe())\n",
    "# Convert to pandas DataFrame to see categorical columns as well\n",
    "df.describe().toPandas()\n",
    "# Pandas in Saprk DataFrame\n",
    "psdf.describe()"
   ]
  },
  {
   "cell_type": "markdown",
   "metadata": {
    "application/vnd.databricks.v1+cell": {
     "inputWidgets": {},
     "nuid": "c7e85015-5739-4f67-bd73-af23d1decf4c",
     "showTitle": false,
     "title": ""
    }
   },
   "source": [
    "6. The above result includes the columns that are categorical, so don't have useful summary statistics. Let's limit to just the numeric features.\n",
    "\n",
    "    `numeric_features` is defined below to contain the column names of the numeric features.  Notice we use the `zip` functions to iterate through two lists at the same time!\n",
    "    \n",
    "    Filter the DataFrame as you would in Pandas to select only the numeric features from the DataFrame and then get the summary statistics on the resulting DataFrame as we did above."
   ]
  },
  {
   "cell_type": "code",
   "execution_count": null,
   "metadata": {
    "application/vnd.databricks.v1+cell": {
     "inputWidgets": {},
     "nuid": "3186a803-9975-4d0b-bc44-f35fcefa559d",
     "showTitle": false,
     "title": ""
    }
   },
   "outputs": [
    {
     "data": {
      "text/plain": [
       "Index(['age', 'job', 'marital', 'education', 'default', 'balance', 'housing',\n",
       "       'loan', 'contact', 'day', 'month', 'duration', 'campaign', 'pdays',\n",
       "       'previous', 'poutcome', 'y'],\n",
       "      dtype='object')\n",
       "Out[12]: [dtype('int32'),\n",
       " dtype('O'),\n",
       " dtype('O'),\n",
       " dtype('O'),\n",
       " dtype('O'),\n",
       " dtype('int32'),\n",
       " dtype('O'),\n",
       " dtype('O'),\n",
       " dtype('O'),\n",
       " dtype('int32'),\n",
       " dtype('O'),\n",
       " dtype('int32'),\n",
       " dtype('int32'),\n",
       " dtype('int32'),\n",
       " dtype('int32'),\n",
       " dtype('O'),\n",
       " dtype('O')]"
      ]
     },
     "metadata": {
      "application/vnd.databricks.v1+output": {
       "addedWidgets": {},
       "arguments": {},
       "data": "Index(['age', 'job', 'marital', 'education', 'default', 'balance', 'housing',\n       'loan', 'contact', 'day', 'month', 'duration', 'campaign', 'pdays',\n       'previous', 'poutcome', 'y'],\n      dtype='object')\nOut[12]: [dtype('int32'),\n dtype('O'),\n dtype('O'),\n dtype('O'),\n dtype('O'),\n dtype('int32'),\n dtype('O'),\n dtype('O'),\n dtype('O'),\n dtype('int32'),\n dtype('O'),\n dtype('int32'),\n dtype('int32'),\n dtype('int32'),\n dtype('int32'),\n dtype('O'),\n dtype('O')]",
       "datasetInfos": [],
       "metadata": {},
       "removedWidgets": [],
       "type": "ansi"
      }
     },
     "output_type": "display_data"
    }
   ],
   "source": [
    "print(psdf.dtypes.index)\n",
    "psdf.dtypes.tolist()"
   ]
  },
  {
   "cell_type": "code",
   "execution_count": null,
   "metadata": {
    "application/vnd.databricks.v1+cell": {
     "inputWidgets": {},
     "nuid": "b843ce9c-92bb-4e45-b54a-4fea20d7e5d7",
     "showTitle": false,
     "title": ""
    }
   },
   "outputs": [
    {
     "data": {
      "text/html": [
       "<div>\n",
       "<style scoped>\n",
       "    .dataframe tbody tr th:only-of-type {\n",
       "        vertical-align: middle;\n",
       "    }\n",
       "\n",
       "    .dataframe tbody tr th {\n",
       "        vertical-align: top;\n",
       "    }\n",
       "\n",
       "    .dataframe thead th {\n",
       "        text-align: right;\n",
       "    }\n",
       "</style>\n",
       "<table border=\"1\" class=\"dataframe\">\n",
       "  <thead>\n",
       "    <tr style=\"text-align: right;\">\n",
       "      <th></th>\n",
       "      <th>age</th>\n",
       "      <th>balance</th>\n",
       "      <th>day</th>\n",
       "      <th>duration</th>\n",
       "      <th>campaign</th>\n",
       "      <th>pdays</th>\n",
       "      <th>previous</th>\n",
       "    </tr>\n",
       "  </thead>\n",
       "  <tbody>\n",
       "    <tr>\n",
       "      <th>count</th>\n",
       "      <td>4521.000000</td>\n",
       "      <td>4521.000000</td>\n",
       "      <td>4521.000000</td>\n",
       "      <td>4521.000000</td>\n",
       "      <td>4521.000000</td>\n",
       "      <td>4521.000000</td>\n",
       "      <td>4521.000000</td>\n",
       "    </tr>\n",
       "    <tr>\n",
       "      <th>mean</th>\n",
       "      <td>41.170095</td>\n",
       "      <td>1422.657819</td>\n",
       "      <td>15.915284</td>\n",
       "      <td>263.961292</td>\n",
       "      <td>2.793630</td>\n",
       "      <td>39.766645</td>\n",
       "      <td>0.542579</td>\n",
       "    </tr>\n",
       "    <tr>\n",
       "      <th>std</th>\n",
       "      <td>10.576211</td>\n",
       "      <td>3009.638142</td>\n",
       "      <td>8.247667</td>\n",
       "      <td>259.856633</td>\n",
       "      <td>3.109807</td>\n",
       "      <td>100.121124</td>\n",
       "      <td>1.693562</td>\n",
       "    </tr>\n",
       "    <tr>\n",
       "      <th>min</th>\n",
       "      <td>19.000000</td>\n",
       "      <td>-3313.000000</td>\n",
       "      <td>1.000000</td>\n",
       "      <td>4.000000</td>\n",
       "      <td>1.000000</td>\n",
       "      <td>-1.000000</td>\n",
       "      <td>0.000000</td>\n",
       "    </tr>\n",
       "    <tr>\n",
       "      <th>25%</th>\n",
       "      <td>33.000000</td>\n",
       "      <td>69.000000</td>\n",
       "      <td>9.000000</td>\n",
       "      <td>104.000000</td>\n",
       "      <td>1.000000</td>\n",
       "      <td>-1.000000</td>\n",
       "      <td>0.000000</td>\n",
       "    </tr>\n",
       "    <tr>\n",
       "      <th>50%</th>\n",
       "      <td>39.000000</td>\n",
       "      <td>444.000000</td>\n",
       "      <td>16.000000</td>\n",
       "      <td>185.000000</td>\n",
       "      <td>2.000000</td>\n",
       "      <td>-1.000000</td>\n",
       "      <td>0.000000</td>\n",
       "    </tr>\n",
       "    <tr>\n",
       "      <th>75%</th>\n",
       "      <td>49.000000</td>\n",
       "      <td>1480.000000</td>\n",
       "      <td>21.000000</td>\n",
       "      <td>329.000000</td>\n",
       "      <td>3.000000</td>\n",
       "      <td>-1.000000</td>\n",
       "      <td>0.000000</td>\n",
       "    </tr>\n",
       "    <tr>\n",
       "      <th>max</th>\n",
       "      <td>87.000000</td>\n",
       "      <td>71188.000000</td>\n",
       "      <td>31.000000</td>\n",
       "      <td>3025.000000</td>\n",
       "      <td>50.000000</td>\n",
       "      <td>871.000000</td>\n",
       "      <td>25.000000</td>\n",
       "    </tr>\n",
       "  </tbody>\n",
       "</table>\n",
       "</div>"
      ]
     },
     "metadata": {
      "application/vnd.databricks.v1+output": {
       "addedWidgets": {},
       "arguments": {},
       "data": "<div>\n<style scoped>\n    .dataframe tbody tr th:only-of-type {\n        vertical-align: middle;\n    }\n\n    .dataframe tbody tr th {\n        vertical-align: top;\n    }\n\n    .dataframe thead th {\n        text-align: right;\n    }\n</style>\n<table border=\"1\" class=\"dataframe\">\n  <thead>\n    <tr style=\"text-align: right;\">\n      <th></th>\n      <th>age</th>\n      <th>balance</th>\n      <th>day</th>\n      <th>duration</th>\n      <th>campaign</th>\n      <th>pdays</th>\n      <th>previous</th>\n    </tr>\n  </thead>\n  <tbody>\n    <tr>\n      <th>count</th>\n      <td>4521.000000</td>\n      <td>4521.000000</td>\n      <td>4521.000000</td>\n      <td>4521.000000</td>\n      <td>4521.000000</td>\n      <td>4521.000000</td>\n      <td>4521.000000</td>\n    </tr>\n    <tr>\n      <th>mean</th>\n      <td>41.170095</td>\n      <td>1422.657819</td>\n      <td>15.915284</td>\n      <td>263.961292</td>\n      <td>2.793630</td>\n      <td>39.766645</td>\n      <td>0.542579</td>\n    </tr>\n    <tr>\n      <th>std</th>\n      <td>10.576211</td>\n      <td>3009.638142</td>\n      <td>8.247667</td>\n      <td>259.856633</td>\n      <td>3.109807</td>\n      <td>100.121124</td>\n      <td>1.693562</td>\n    </tr>\n    <tr>\n      <th>min</th>\n      <td>19.000000</td>\n      <td>-3313.000000</td>\n      <td>1.000000</td>\n      <td>4.000000</td>\n      <td>1.000000</td>\n      <td>-1.000000</td>\n      <td>0.000000</td>\n    </tr>\n    <tr>\n      <th>25%</th>\n      <td>33.000000</td>\n      <td>69.000000</td>\n      <td>9.000000</td>\n      <td>104.000000</td>\n      <td>1.000000</td>\n      <td>-1.000000</td>\n      <td>0.000000</td>\n    </tr>\n    <tr>\n      <th>50%</th>\n      <td>39.000000</td>\n      <td>444.000000</td>\n      <td>16.000000</td>\n      <td>185.000000</td>\n      <td>2.000000</td>\n      <td>-1.000000</td>\n      <td>0.000000</td>\n    </tr>\n    <tr>\n      <th>75%</th>\n      <td>49.000000</td>\n      <td>1480.000000</td>\n      <td>21.000000</td>\n      <td>329.000000</td>\n      <td>3.000000</td>\n      <td>-1.000000</td>\n      <td>0.000000</td>\n    </tr>\n    <tr>\n      <th>max</th>\n      <td>87.000000</td>\n      <td>71188.000000</td>\n      <td>31.000000</td>\n      <td>3025.000000</td>\n      <td>50.000000</td>\n      <td>871.000000</td>\n      <td>25.000000</td>\n    </tr>\n  </tbody>\n</table>\n</div>",
       "datasetInfos": [],
       "metadata": {},
       "removedWidgets": [],
       "textData": null,
       "type": "htmlSandbox"
      }
     },
     "output_type": "display_data"
    }
   ],
   "source": [
    "col_names = [name for name in psdf.dtypes.index]\n",
    "dtypes = [dtype for dtype in psdf.dtypes.tolist()]\n",
    "\n",
    "numeric_features = [name for name, dtype in zip(col_names, dtypes) if dtype == 'int32']\n",
    "# [YOUR CODE HERE]\n",
    "psdf[numeric_features].describe()"
   ]
  },
  {
   "cell_type": "markdown",
   "metadata": {
    "application/vnd.databricks.v1+cell": {
     "inputWidgets": {},
     "nuid": "72534767-044a-417d-957c-ab26679b103d",
     "showTitle": false,
     "title": ""
    }
   },
   "source": [
    "7. Run the following code to look at correlation between the numeric features.  Let's convert our Pandas on Spark Datafrane to a Pandas DataFrame using the `to_pandas()` command so that we can plot.  What do you see?"
   ]
  },
  {
   "cell_type": "code",
   "execution_count": null,
   "metadata": {
    "application/vnd.databricks.v1+cell": {
     "inputWidgets": {},
     "nuid": "1cfda4ef-8aa3-4f69-8ca8-101d11f17e8e",
     "showTitle": false,
     "title": ""
    }
   },
   "outputs": [
    {
     "data": {
      "text/plain": [
       "Out[14]: []Out[14]: []Out[14]: []Out[14]: []Out[14]: []Out[14]: []Out[14]: []Out[14]: []Out[14]: []Out[14]: []Out[14]: []Out[14]: []Out[14]: []Out[14]: []"
      ]
     },
     "metadata": {
      "application/vnd.databricks.v1+output": {
       "addedWidgets": {},
       "arguments": {},
       "data": "Out[14]: []Out[14]: []Out[14]: []Out[14]: []Out[14]: []Out[14]: []Out[14]: []Out[14]: []Out[14]: []Out[14]: []Out[14]: []Out[14]: []Out[14]: []Out[14]: []",
       "datasetInfos": [],
       "metadata": {},
       "removedWidgets": [],
       "type": "ansi"
      }
     },
     "output_type": "display_data"
    },
    {
     "data": {
      "image/png": "[encoded data removed]"
     },
     "metadata": {
      "application/vnd.databricks.v1+output": {
       "addedWidgets": {},
       "arguments": {},
       "data": "data:image/png;base64,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\n",
       "datasetInfos": [],
       "metadata": {},
       "removedWidgets": [],
       "type": "image"
      }
     },
     "output_type": "display_data"
    }
   ],
   "source": [
    "import pandas as pd\n",
    "\n",
    "# Convert Pandas on Spark DataFrame to Spark DataFrame\n",
    "numeric_data = psdf[numeric_features].to_pandas()\n",
    "\n",
    "axs = pd.plotting.scatter_matrix(numeric_data, figsize=(8, 8));\n",
    "n = len(numeric_data.columns)\n",
    "\n",
    "for i in range(n):\n",
    "    v = axs[i, 0]\n",
    "    v.yaxis.label.set_rotation(0)\n",
    "    v.yaxis.label.set_ha('right')\n",
    "    v.set_yticks(())\n",
    "    h = axs[n - 1, i]\n",
    "    h.xaxis.label.set_rotation(90)\n",
    "    h.set_xticks(())"
   ]
  },
  {
   "cell_type": "markdown",
   "metadata": {
    "application/vnd.databricks.v1+cell": {
     "inputWidgets": {},
     "nuid": "79d455fa-6ee2-4de6-b055-fece294607d9",
     "showTitle": false,
     "title": ""
    }
   },
   "source": [
    "There aren't any highly correlated variables, so we will keep them all for the model. It’s obvious that there aren’t highly correlated numeric variables. Therefore, we will keep all of them for the model. However, day and month columns are not really useful, so we will remove these two columns.\n",
    "\n",
    "8. Use the `.drop()` method to drop the `month` and `day` columns.\n",
    "    \n",
    "    Note that this method returns a new DataFrame, so save that result as `sdf`.\n",
    "\n",
    "    Use the `.dtypes()` method to verify that `sdf` now has the correct columns."
   ]
  },
  {
   "cell_type": "code",
   "execution_count": null,
   "metadata": {
    "application/vnd.databricks.v1+cell": {
     "inputWidgets": {},
     "nuid": "adef7a84-4270-4108-9849-ef699d0d7541",
     "showTitle": false,
     "title": ""
    }
   },
   "outputs": [
    {
     "data": {
      "text/plain": [
       "Out[15]: age           int32\n",
       "job          object\n",
       "marital      object\n",
       "education    object\n",
       "default      object\n",
       "balance       int32\n",
       "housing      object\n",
       "loan         object\n",
       "contact      object\n",
       "day           int32\n",
       "month        object\n",
       "duration      int32\n",
       "campaign      int32\n",
       "pdays         int32\n",
       "previous      int32\n",
       "poutcome     object\n",
       "y            object\n",
       "dtype: object"
      ]
     },
     "metadata": {
      "application/vnd.databricks.v1+output": {
       "addedWidgets": {},
       "arguments": {},
       "data": "Out[15]: age           int32\njob          object\nmarital      object\neducation    object\ndefault      object\nbalance       int32\nhousing      object\nloan         object\ncontact      object\nday           int32\nmonth        object\nduration      int32\ncampaign      int32\npdays         int32\nprevious      int32\npoutcome     object\ny            object\ndtype: object",
       "datasetInfos": [],
       "metadata": {},
       "removedWidgets": [],
       "type": "ansi"
      }
     },
     "output_type": "display_data"
    }
   ],
   "source": [
    "# [YOUR CODE HERE]\n",
    "# Pandas in Spark Dataframe\n",
    "sdf = psdf.drop(['day', 'month'])\n",
    "sdf.dtypes"
   ]
  },
  {
   "cell_type": "code",
   "execution_count": null,
   "metadata": {
    "application/vnd.databricks.v1+cell": {
     "inputWidgets": {},
     "nuid": "c76f995e-3b0e-4fd4-bb93-fa10d610396a",
     "showTitle": false,
     "title": ""
    }
   },
   "outputs": [
    {
     "data": {
      "text/plain": [
       "Out[16]: [('age', 'int'),\n",
       " ('job', 'string'),\n",
       " ('marital', 'string'),\n",
       " ('education', 'string'),\n",
       " ('default', 'string'),\n",
       " ('balance', 'int'),\n",
       " ('housing', 'string'),\n",
       " ('loan', 'string'),\n",
       " ('contact', 'string'),\n",
       " ('duration', 'int'),\n",
       " ('campaign', 'int'),\n",
       " ('pdays', 'int'),\n",
       " ('previous', 'int'),\n",
       " ('poutcome', 'string'),\n",
       " ('y', 'string')]"
      ]
     },
     "metadata": {
      "application/vnd.databricks.v1+output": {
       "addedWidgets": {},
       "arguments": {},
       "data": "Out[16]: [('age', 'int'),\n ('job', 'string'),\n ('marital', 'string'),\n ('education', 'string'),\n ('default', 'string'),\n ('balance', 'int'),\n ('housing', 'string'),\n ('loan', 'string'),\n ('contact', 'string'),\n ('duration', 'int'),\n ('campaign', 'int'),\n ('pdays', 'int'),\n ('previous', 'int'),\n ('poutcome', 'string'),\n ('y', 'string')]",
       "datasetInfos": [],
       "metadata": {},
       "removedWidgets": [],
       "type": "ansi"
      }
     },
     "output_type": "display_data"
    }
   ],
   "source": [
    "# [YOUR CODE HERE]\n",
    "# Drop columns in Spark DataFrame\n",
    "# We will use it in Part 4\n",
    "df = df.drop('day', 'month')\n",
    "df.dtypes\n"
   ]
  },
  {
   "cell_type": "markdown",
   "metadata": {
    "application/vnd.databricks.v1+cell": {
     "inputWidgets": {},
     "nuid": "dc7c7c08-3090-4609-b0b3-a5ffa6be0981",
     "showTitle": false,
     "title": ""
    }
   },
   "source": [
    "## Part 3: Preparing Data for Machine Learning\n",
    "\n",
    "What follows is something analagous to a dataloader pipeline in Tensorflow--we're going to chain together some transformations that will convert our categorical variables into a one-hot format more amenable to training a machine learning model. The next code cell just sets this all up, but it doesn't run these transformations on our data yet."
   ]
  },
  {
   "cell_type": "markdown",
   "metadata": {
    "application/vnd.databricks.v1+cell": {
     "inputWidgets": {},
     "nuid": "72e6e744-d740-4365-b02a-cec38e4b0779",
     "showTitle": false,
     "title": ""
    }
   },
   "source": [
    "The process includes Category Indexing, One-Hot Encoding and VectorAssembler — a feature transformer that merges multiple columns into a vector column."
   ]
  },
  {
   "cell_type": "markdown",
   "metadata": {
    "application/vnd.databricks.v1+cell": {
     "inputWidgets": {},
     "nuid": "c20c43bc-899c-46fd-8cd8-68f7faddd8b9",
     "showTitle": false,
     "title": ""
    }
   },
   "source": [
    "The code is taken from [databricks’ official site](https://docs.databricks.com/applications/machine-learning/train-model/mllib/index.html#binary-classification-example) and it indexes each categorical column using the StringIndexer, then converts the indexed categories into one-hot encoded variables. The resulting output has the binary vectors appended to the end of each row. We use the StringIndexer again to encode our labels to label indices. Next, we use the VectorAssembler to combine all the feature columns into a single vector column."
   ]
  },
  {
   "cell_type": "markdown",
   "metadata": {
    "application/vnd.databricks.v1+cell": {
     "inputWidgets": {},
     "nuid": "8216f77c-7921-4fde-a1bd-f5024f164838",
     "showTitle": false,
     "title": ""
    }
   },
   "source": [
    "1. Complete the code by completing the assignment of `assembler`. Use `VectorAssembler` and pass in `assemblerInputs` as `inputCols` and name the `outputCol` `\"features\"`."
   ]
  },
  {
   "cell_type": "code",
   "execution_count": null,
   "metadata": {
    "application/vnd.databricks.v1+cell": {
     "inputWidgets": {},
     "nuid": "2f4b6f3b-a25b-4c93-ae7b-d9fcf8d451df",
     "showTitle": false,
     "title": ""
    }
   },
   "outputs": [],
   "source": [
    "from pyspark.ml.feature import OneHotEncoder , StringIndexer, VectorAssembler\n",
    "\n",
    "categoricalColumns = ['job', 'marital', 'education', 'default', 'housing', 'loan', 'contact', 'poutcome']\n",
    "stages = []\n",
    "\n",
    "for categoricalCol in categoricalColumns:\n",
    "    stringIndexer = StringIndexer(inputCol = categoricalCol, outputCol = categoricalCol + 'Index')\n",
    "    encoder = OneHotEncoder(inputCols=[stringIndexer.getOutputCol()], outputCols=[categoricalCol + \"classVec\"])\n",
    "    stages += [stringIndexer, encoder]\n",
    "\n",
    "label_stringIdx = StringIndexer(inputCol = 'y', outputCol = 'label')\n",
    "stages += [label_stringIdx]\n",
    "numericCols = ['age', 'balance', 'duration', 'campaign', 'pdays', 'previous']\n",
    "assemblerInputs = [c + \"classVec\" for c in categoricalColumns] + numericCols\n",
    "assembler = VectorAssembler(inputCols=assemblerInputs, outputCol='features') # [YOUR CODE HERE]\n",
    "stages += [assembler]"
   ]
  },
  {
   "cell_type": "markdown",
   "metadata": {
    "application/vnd.databricks.v1+cell": {
     "inputWidgets": {},
     "nuid": "0a430a65-f90a-4941-8476-7497416dd0b8",
     "showTitle": false,
     "title": ""
    }
   },
   "source": [
    "## Part 4: Pipeline"
   ]
  },
  {
   "cell_type": "markdown",
   "metadata": {
    "application/vnd.databricks.v1+cell": {
     "inputWidgets": {},
     "nuid": "e6191ae8-826c-405c-835b-85ccde4ed00d",
     "showTitle": false,
     "title": ""
    }
   },
   "source": [
    "We use Pipeline to chain multiple Transformers and Estimators together to specify our machine learning workflow. A Pipeline’s stages are specified as an ordered array.\n",
    "\n",
    "1. Fit a pipeline on df."
   ]
  },
  {
   "cell_type": "code",
   "execution_count": null,
   "metadata": {
    "application/vnd.databricks.v1+cell": {
     "inputWidgets": {},
     "nuid": "30265e83-c80c-4144-a25b-b140b1fcc244",
     "showTitle": false,
     "title": ""
    }
   },
   "outputs": [],
   "source": [
    "from pyspark.ml import Pipeline\n",
    "pipeline = Pipeline(stages=stages)\n",
    "\n",
    "pipelineModel = pipeline.fit(df) # [YOUR CODE HERE]"
   ]
  },
  {
   "cell_type": "markdown",
   "metadata": {
    "application/vnd.databricks.v1+cell": {
     "inputWidgets": {},
     "nuid": "d7df9634-b000-4244-8322-33f47fd89779",
     "showTitle": false,
     "title": ""
    }
   },
   "source": [
    "2. Transform `pipelineModel` on `df` and assign this to variable `transformed_df`."
   ]
  },
  {
   "cell_type": "code",
   "execution_count": null,
   "metadata": {
    "application/vnd.databricks.v1+cell": {
     "inputWidgets": {},
     "nuid": "642fb2f7-aba7-44d4-88a3-4162f415c3c2",
     "showTitle": false,
     "title": ""
    }
   },
   "outputs": [
    {
     "data": {
      "text/plain": [
       "root\n",
       " |-- age: integer (nullable = true)\n",
       " |-- job: string (nullable = true)\n",
       " |-- marital: string (nullable = true)\n",
       " |-- education: string (nullable = true)\n",
       " |-- default: string (nullable = true)\n",
       " |-- balance: integer (nullable = true)\n",
       " |-- housing: string (nullable = true)\n",
       " |-- loan: string (nullable = true)\n",
       " |-- contact: string (nullable = true)\n",
       " |-- duration: integer (nullable = true)\n",
       " |-- campaign: integer (nullable = true)\n",
       " |-- pdays: integer (nullable = true)\n",
       " |-- previous: integer (nullable = true)\n",
       " |-- poutcome: string (nullable = true)\n",
       " |-- y: string (nullable = true)\n",
       " |-- jobIndex: double (nullable = false)\n",
       " |-- jobclassVec: vector (nullable = true)\n",
       " |-- maritalIndex: double (nullable = false)\n",
       " |-- maritalclassVec: vector (nullable = true)\n",
       " |-- educationIndex: double (nullable = false)\n",
       " |-- educationclassVec: vector (nullable = true)\n",
       " |-- defaultIndex: double (nullable = false)\n",
       " |-- defaultclassVec: vector (nullable = true)\n",
       " |-- housingIndex: double (nullable = false)\n",
       " |-- housingclassVec: vector (nullable = true)\n",
       " |-- loanIndex: double (nullable = false)\n",
       " |-- loanclassVec: vector (nullable = true)\n",
       " |-- contactIndex: double (nullable = false)\n",
       " |-- contactclassVec: vector (nullable = true)\n",
       " |-- poutcomeIndex: double (nullable = false)\n",
       " |-- poutcomeclassVec: vector (nullable = true)\n",
       " |-- label: double (nullable = false)\n",
       " |-- features: vector (nullable = true)\n",
       "\n"
      ]
     },
     "metadata": {
      "application/vnd.databricks.v1+output": {
       "addedWidgets": {},
       "arguments": {},
       "data": "root\n |-- age: integer (nullable = true)\n |-- job: string (nullable = true)\n |-- marital: string (nullable = true)\n |-- education: string (nullable = true)\n |-- default: string (nullable = true)\n |-- balance: integer (nullable = true)\n |-- housing: string (nullable = true)\n |-- loan: string (nullable = true)\n |-- contact: string (nullable = true)\n |-- duration: integer (nullable = true)\n |-- campaign: integer (nullable = true)\n |-- pdays: integer (nullable = true)\n |-- previous: integer (nullable = true)\n |-- poutcome: string (nullable = true)\n |-- y: string (nullable = true)\n |-- jobIndex: double (nullable = false)\n |-- jobclassVec: vector (nullable = true)\n |-- maritalIndex: double (nullable = false)\n |-- maritalclassVec: vector (nullable = true)\n |-- educationIndex: double (nullable = false)\n |-- educationclassVec: vector (nullable = true)\n |-- defaultIndex: double (nullable = false)\n |-- defaultclassVec: vector (nullable = true)\n |-- housingIndex: double (nullable = false)\n |-- housingclassVec: vector (nullable = true)\n |-- loanIndex: double (nullable = false)\n |-- loanclassVec: vector (nullable = true)\n |-- contactIndex: double (nullable = false)\n |-- contactclassVec: vector (nullable = true)\n |-- poutcomeIndex: double (nullable = false)\n |-- poutcomeclassVec: vector (nullable = true)\n |-- label: double (nullable = false)\n |-- features: vector (nullable = true)\n\n",
       "datasetInfos": [],
       "metadata": {},
       "removedWidgets": [],
       "type": "ansi"
      }
     },
     "output_type": "display_data"
    }
   ],
   "source": [
    "transformed_df = pipelineModel.transform(df) # [YOUR CODE HERE]\n",
    "transformed_df.printSchema()"
   ]
  },
  {
   "cell_type": "markdown",
   "metadata": {
    "application/vnd.databricks.v1+cell": {
     "inputWidgets": {},
     "nuid": "97495650-474f-4a06-b7d0-22369ad3bf1c",
     "showTitle": false,
     "title": ""
    }
   },
   "source": [
    "From the transformation, we'd like to take the `label` and `features` columns as well as the original columns from `sdf.`\n",
    "\n",
    "3. Use the `.select()` method to pull these columns from the `transformed_df` and reassign the resulting DataFrame to `sdf`."
   ]
  },
  {
   "cell_type": "code",
   "execution_count": null,
   "metadata": {
    "application/vnd.databricks.v1+cell": {
     "inputWidgets": {},
     "nuid": "ea684859-f063-4131-9310-053f19c061e8",
     "showTitle": false,
     "title": ""
    }
   },
   "outputs": [
    {
     "data": {
      "text/plain": [
       "root\n",
       " |-- label: double (nullable = false)\n",
       " |-- features: vector (nullable = true)\n",
       " |-- age: integer (nullable = true)\n",
       " |-- job: string (nullable = true)\n",
       " |-- marital: string (nullable = true)\n",
       " |-- education: string (nullable = true)\n",
       " |-- default: string (nullable = true)\n",
       " |-- balance: integer (nullable = true)\n",
       " |-- housing: string (nullable = true)\n",
       " |-- loan: string (nullable = true)\n",
       " |-- contact: string (nullable = true)\n",
       " |-- duration: integer (nullable = true)\n",
       " |-- campaign: integer (nullable = true)\n",
       " |-- pdays: integer (nullable = true)\n",
       " |-- previous: integer (nullable = true)\n",
       " |-- poutcome: string (nullable = true)\n",
       " |-- y: string (nullable = true)\n",
       "\n"
      ]
     },
     "metadata": {
      "application/vnd.databricks.v1+output": {
       "addedWidgets": {},
       "arguments": {},
       "data": "root\n |-- label: double (nullable = false)\n |-- features: vector (nullable = true)\n |-- age: integer (nullable = true)\n |-- job: string (nullable = true)\n |-- marital: string (nullable = true)\n |-- education: string (nullable = true)\n |-- default: string (nullable = true)\n |-- balance: integer (nullable = true)\n |-- housing: string (nullable = true)\n |-- loan: string (nullable = true)\n |-- contact: string (nullable = true)\n |-- duration: integer (nullable = true)\n |-- campaign: integer (nullable = true)\n |-- pdays: integer (nullable = true)\n |-- previous: integer (nullable = true)\n |-- poutcome: string (nullable = true)\n |-- y: string (nullable = true)\n\n",
       "datasetInfos": [],
       "metadata": {},
       "removedWidgets": [],
       "type": "ansi"
      }
     },
     "output_type": "display_data"
    }
   ],
   "source": [
    "selectedCols = ['label', 'features'] + df.columns\n",
    "df = transformed_df.select(selectedCols) # [YOUR CODE HERE]\n",
    "df.printSchema()"
   ]
  },
  {
   "cell_type": "markdown",
   "metadata": {
    "application/vnd.databricks.v1+cell": {
     "inputWidgets": {},
     "nuid": "348e8f02-f75d-40c5-837a-75a642a2be9a",
     "showTitle": false,
     "title": ""
    }
   },
   "source": [
    "4. View the first five rows of the `df` DataFrame. Use either of the methods we did in Part 2:\n",
    "    * `.show()` method\n",
    "    * `.take()` method and convert result to a Pandas DataFrame"
   ]
  },
  {
   "cell_type": "code",
   "execution_count": null,
   "metadata": {
    "application/vnd.databricks.v1+cell": {
     "inputWidgets": {},
     "nuid": "b177c7ee-96a4-4340-952b-e02cb46faf25",
     "showTitle": false,
     "title": ""
    }
   },
   "outputs": [
    {
     "data": {
      "text/plain": [
       "+-----+--------------------+---+-----------+-------+---------+-------+-------+-------+----+--------+--------+--------+-----+--------+--------+---+\n",
       "|label|            features|age|        job|marital|education|default|balance|housing|loan| contact|duration|campaign|pdays|previous|poutcome|  y|\n",
       "+-----+--------------------+---+-----------+-------+---------+-------+-------+-------+----+--------+--------+--------+-----+--------+--------+---+\n",
       "|  0.0|(30,[8,11,15,16,1...| 30| unemployed|married|  primary|     no|   1787|     no|  no|cellular|      79|       1|   -1|       0| unknown| no|\n",
       "|  0.0|(30,[4,11,13,16,1...| 33|   services|married|secondary|     no|   4789|    yes| yes|cellular|     220|       1|  339|       4| failure| no|\n",
       "|  0.0|(30,[0,12,14,16,1...| 35| management| single| tertiary|     no|   1350|    yes|  no|cellular|     185|       1|  330|       1| failure| no|\n",
       "|  0.0|(30,[0,11,14,16,1...| 30| management|married| tertiary|     no|   1476|    yes| yes| unknown|     199|       4|   -1|       0| unknown| no|\n",
       "|  0.0|(30,[1,11,13,16,1...| 59|blue-collar|married|secondary|     no|      0|    yes|  no| unknown|     226|       1|   -1|       0| unknown| no|\n",
       "+-----+--------------------+---+-----------+-------+---------+-------+-------+-------+----+--------+--------+--------+-----+--------+--------+---+\n",
       "only showing top 5 rows\n",
       "\n"
      ]
     },
     "metadata": {
      "application/vnd.databricks.v1+output": {
       "addedWidgets": {},
       "arguments": {},
       "data": "+-----+--------------------+---+-----------+-------+---------+-------+-------+-------+----+--------+--------+--------+-----+--------+--------+---+\n|label|            features|age|        job|marital|education|default|balance|housing|loan| contact|duration|campaign|pdays|previous|poutcome|  y|\n+-----+--------------------+---+-----------+-------+---------+-------+-------+-------+----+--------+--------+--------+-----+--------+--------+---+\n|  0.0|(30,[8,11,15,16,1...| 30| unemployed|married|  primary|     no|   1787|     no|  no|cellular|      79|       1|   -1|       0| unknown| no|\n|  0.0|(30,[4,11,13,16,1...| 33|   services|married|secondary|     no|   4789|    yes| yes|cellular|     220|       1|  339|       4| failure| no|\n|  0.0|(30,[0,12,14,16,1...| 35| management| single| tertiary|     no|   1350|    yes|  no|cellular|     185|       1|  330|       1| failure| no|\n|  0.0|(30,[0,11,14,16,1...| 30| management|married| tertiary|     no|   1476|    yes| yes| unknown|     199|       4|   -1|       0| unknown| no|\n|  0.0|(30,[1,11,13,16,1...| 59|blue-collar|married|secondary|     no|      0|    yes|  no| unknown|     226|       1|   -1|       0| unknown| no|\n+-----+--------------------+---+-----------+-------+---------+-------+-------+-------+----+--------+--------+--------+-----+--------+--------+---+\nonly showing top 5 rows\n\n",
       "datasetInfos": [],
       "metadata": {},
       "removedWidgets": [],
       "type": "ansi"
      }
     },
     "output_type": "display_data"
    }
   ],
   "source": [
    "# [YOUR CODE HERE]\n",
    "df.show(5)\n"
   ]
  },
  {
   "cell_type": "markdown",
   "metadata": {
    "application/vnd.databricks.v1+cell": {
     "inputWidgets": {},
     "nuid": "3bb5ed2c-8a82-4135-b754-7d99e77f5a70",
     "showTitle": false,
     "title": ""
    }
   },
   "source": [
    "5. Randomly split the dataset in training and test sets, with 70% of the data in the training set and the remaining 30% in the test set.\n",
    "\n",
    "    Hint: Call the `.randomSplit()` method."
   ]
  },
  {
   "cell_type": "code",
   "execution_count": null,
   "metadata": {
    "application/vnd.databricks.v1+cell": {
     "inputWidgets": {},
     "nuid": "b4798af7-e77f-4ebb-891f-c814799f8618",
     "showTitle": false,
     "title": ""
    }
   },
   "outputs": [],
   "source": [
    "train, test = df.randomSplit([0.7, 0.3], seed=42) # [YOUR CODE HERE]"
   ]
  },
  {
   "cell_type": "markdown",
   "metadata": {
    "application/vnd.databricks.v1+cell": {
     "inputWidgets": {},
     "nuid": "418a1067-7525-4d42-b5a5-abce98cbd6fb",
     "showTitle": false,
     "title": ""
    }
   },
   "source": [
    "6. What are the sizes of the training and test sets?"
   ]
  },
  {
   "cell_type": "code",
   "execution_count": null,
   "metadata": {
    "application/vnd.databricks.v1+cell": {
     "inputWidgets": {},
     "nuid": "fa819404-3ab0-4c78-b97c-88968fc2b2e1",
     "showTitle": false,
     "title": ""
    }
   },
   "outputs": [
    {
     "data": {
      "text/plain": [
       "Training dataset: 3233\n",
       "Test dataset: 1288\n"
      ]
     },
     "metadata": {
      "application/vnd.databricks.v1+output": {
       "addedWidgets": {},
       "arguments": {},
       "data": "Training dataset: 3233\nTest dataset: 1288\n",
       "datasetInfos": [],
       "metadata": {},
       "removedWidgets": [],
       "type": "ansi"
      }
     },
     "output_type": "display_data"
    }
   ],
   "source": [
    "# [YOUR CODE HERE]\n",
    "print(f\"Training dataset: {train.cache().count()}\")\n",
    "print(f\"Test dataset: {test.count()}\")\n"
   ]
  },
  {
   "cell_type": "markdown",
   "metadata": {
    "application/vnd.databricks.v1+cell": {
     "inputWidgets": {},
     "nuid": "42af67c4-7257-40f0-8219-069494123190",
     "showTitle": false,
     "title": ""
    }
   },
   "source": [
    "## Part 5: Logistic Regression Model\n",
    "\n",
    "- You can build a RandomForestClassifier with : from pyspark.ml.classification import RandomForestClassifier\n",
    "- You can build a Gradient-Boosted Tree Classifier with : from pyspark.ml.classification import GBTClassifier\n",
    "\n",
    "1. Fit a LogisticRegression with `featuresCol` as `\"features\"`, `labelCol` as `\"label\"` and a `maxIter` of 10."
   ]
  },
  {
   "cell_type": "code",
   "execution_count": null,
   "metadata": {
    "application/vnd.databricks.v1+cell": {
     "inputWidgets": {},
     "nuid": "45df93be-c36f-4b6c-8393-13e39311e218",
     "showTitle": false,
     "title": ""
    }
   },
   "outputs": [],
   "source": [
    "from pyspark.ml.classification import LogisticRegression\n",
    "\n",
    "# [YOUR CODE HERE]\n",
    "lr = LogisticRegression(featuresCol='features', labelCol='label', maxIter=10)\n",
    "lrModel = lr.fit(train)"
   ]
  },
  {
   "cell_type": "markdown",
   "metadata": {
    "application/vnd.databricks.v1+cell": {
     "inputWidgets": {},
     "nuid": "eb297027-929c-4637-8ed2-64bff31e1fd4",
     "showTitle": false,
     "title": ""
    }
   },
   "source": [
    "2. We can obtain the coefficients by using LogisticRegressionModel’s attributes. Look at the following plot of the beta coefficients."
   ]
  },
  {
   "cell_type": "code",
   "execution_count": null,
   "metadata": {
    "application/vnd.databricks.v1+cell": {
     "inputWidgets": {},
     "nuid": "c1766292-117f-4ea2-89fe-2c62612a600b",
     "showTitle": false,
     "title": ""
    }
   },
   "outputs": [
    {
     "data": {
      "text/plain": [
       "Out[25]: [<matplotlib.lines.Line2D at 0x7fa567f3c130>]Out[25]: Text(0, 0.5, 'Beta Coefficients')"
      ]
     },
     "metadata": {
      "application/vnd.databricks.v1+output": {
       "addedWidgets": {},
       "arguments": {},
       "data": "Out[25]: [<matplotlib.lines.Line2D at 0x7fa567f3c130>]Out[25]: Text(0, 0.5, 'Beta Coefficients')",
       "datasetInfos": [],
       "metadata": {},
       "removedWidgets": [],
       "type": "ansi"
      }
     },
     "output_type": "display_data"
    },
    {
     "data": {
      "image/png": "[encoded data removed]"
     },
     "metadata": {
      "application/vnd.databricks.v1+output": {
       "addedWidgets": {},
       "arguments": {},
       "data": "data:image/png;base64,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\n",
       "datasetInfos": [],
       "metadata": {},
       "removedWidgets": [],
       "type": "image"
      }
     },
     "output_type": "display_data"
    }
   ],
   "source": [
    "import matplotlib.pyplot as plt\n",
    "import numpy as np\n",
    "beta = np.sort(lrModel.coefficients)\n",
    "plt.plot(beta)\n",
    "plt.ylabel('Beta Coefficients')\n",
    "plt.show()"
   ]
  },
  {
   "cell_type": "markdown",
   "metadata": {
    "application/vnd.databricks.v1+cell": {
     "inputWidgets": {},
     "nuid": "a850fb0a-0d4d-4f58-8c23-2aea0db2f3f1",
     "showTitle": false,
     "title": ""
    }
   },
   "source": [
    "3. Use the `.transform()` method to make predictions and save them as `predictions`."
   ]
  },
  {
   "cell_type": "code",
   "execution_count": null,
   "metadata": {
    "application/vnd.databricks.v1+cell": {
     "inputWidgets": {},
     "nuid": "cdf395d5-b7ef-4f5a-8a32-f1eb76b59122",
     "showTitle": false,
     "title": ""
    }
   },
   "outputs": [],
   "source": [
    "predictions = lrModel.transform(test) # [YOUR CODE HERE]"
   ]
  },
  {
   "cell_type": "markdown",
   "metadata": {
    "application/vnd.databricks.v1+cell": {
     "inputWidgets": {},
     "nuid": "0d933b1a-e573-4d7a-9fe8-0ec0a51ed338",
     "showTitle": false,
     "title": ""
    }
   },
   "source": [
    "4. View the first 10 rows of the `predictions` DataFrame."
   ]
  },
  {
   "cell_type": "code",
   "execution_count": null,
   "metadata": {
    "application/vnd.databricks.v1+cell": {
     "inputWidgets": {},
     "nuid": "c3701f3c-14ec-4b80-a92e-32fc428e41c7",
     "showTitle": false,
     "title": ""
    }
   },
   "outputs": [
    {
     "data": {
      "text/plain": [
       "+-----+--------------------+---+----------+-------+---------+-------+-------+-------+----+--------+--------+--------+-----+--------+--------+---+--------------------+--------------------+----------+\n",
       "|label|            features|age|       job|marital|education|default|balance|housing|loan| contact|duration|campaign|pdays|previous|poutcome|  y|       rawPrediction|         probability|prediction|\n",
       "+-----+--------------------+---+----------+-------+---------+-------+-------+-------+----+--------+--------+--------+-----+--------+--------+---+--------------------+--------------------+----------+\n",
       "|  0.0|(30,[0,11,13,16,1...| 33|management|married|secondary|     no|     11|    yes|  no|cellular|     104|       3|   -1|       0| unknown| no|[3.34459257546136...|[0.96592731579825...|       0.0|\n",
       "|  0.0|(30,[0,11,13,16,1...| 36|management|married|secondary|     no|    644|    yes|  no|cellular|      54|       2|   -1|       0| unknown| no|[3.49558283425373...|[0.97056182588136...|       0.0|\n",
       "|  0.0|(30,[0,11,13,16,1...| 44|management|married|secondary|     no|   8262|    yes|  no|cellular|     201|      16|   -1|       0| unknown| no|[3.88599495292370...|[0.97988550340667...|       0.0|\n",
       "|  0.0|(30,[0,11,13,16,1...| 48|management|married|secondary|     no|    117|    yes|  no|cellular|     635|       1|   -1|       0| unknown| no|[1.00530053953457...|[0.73209945072549...|       0.0|\n",
       "|  0.0|(30,[0,11,13,16,1...| 58|management|married|secondary|     no|    407|    yes|  no|cellular|     145|       2|   -1|       0| unknown| no|[3.15034616239782...|[0.95892235939552...|       0.0|\n",
       "|  0.0|(30,[0,11,13,16,1...| 60|management|married|secondary|     no|    725|    yes|  no|cellular|     266|       1|   -1|       0| unknown| no|[2.57955929510873...|[0.92953440831591...|       0.0|\n",
       "|  0.0|(30,[0,11,13,16,1...| 30|management|married|secondary|     no|      0|    yes|  no|cellular|     756|       3|   -1|       0| unknown| no|[0.60079049595689...|[0.64583713841231...|       0.0|\n",
       "|  0.0|(30,[0,11,13,16,1...| 40|management|married|secondary|     no|    643|    yes|  no|cellular|      74|       2|  256|       1| failure| no|[3.12468073552480...|[0.95789939862378...|       0.0|\n",
       "|  0.0|(30,[0,11,13,16,1...| 32|management|married|secondary|     no|   3935|    yes|  no| unknown|     129|       2|   -1|       0| unknown| no|[4.27596651573881...|[0.98629191432219...|       0.0|\n",
       "|  0.0|(30,[0,11,13,16,1...| 34|management|married|secondary|     no|   -294|    yes|  no| unknown|     532|       2|   -1|       0| unknown| no|[2.56254537926277...|[0.92841181667033...|       0.0|\n",
       "+-----+--------------------+---+----------+-------+---------+-------+-------+-------+----+--------+--------+--------+-----+--------+--------+---+--------------------+--------------------+----------+\n",
       "only showing top 10 rows\n",
       "\n"
      ]
     },
     "metadata": {
      "application/vnd.databricks.v1+output": {
       "addedWidgets": {},
       "arguments": {},
       "data": "+-----+--------------------+---+----------+-------+---------+-------+-------+-------+----+--------+--------+--------+-----+--------+--------+---+--------------------+--------------------+----------+\n|label|            features|age|       job|marital|education|default|balance|housing|loan| contact|duration|campaign|pdays|previous|poutcome|  y|       rawPrediction|         probability|prediction|\n+-----+--------------------+---+----------+-------+---------+-------+-------+-------+----+--------+--------+--------+-----+--------+--------+---+--------------------+--------------------+----------+\n|  0.0|(30,[0,11,13,16,1...| 33|management|married|secondary|     no|     11|    yes|  no|cellular|     104|       3|   -1|       0| unknown| no|[3.34459257546136...|[0.96592731579825...|       0.0|\n|  0.0|(30,[0,11,13,16,1...| 36|management|married|secondary|     no|    644|    yes|  no|cellular|      54|       2|   -1|       0| unknown| no|[3.49558283425373...|[0.97056182588136...|       0.0|\n|  0.0|(30,[0,11,13,16,1...| 44|management|married|secondary|     no|   8262|    yes|  no|cellular|     201|      16|   -1|       0| unknown| no|[3.88599495292370...|[0.97988550340667...|       0.0|\n|  0.0|(30,[0,11,13,16,1...| 48|management|married|secondary|     no|    117|    yes|  no|cellular|     635|       1|   -1|       0| unknown| no|[1.00530053953457...|[0.73209945072549...|       0.0|\n|  0.0|(30,[0,11,13,16,1...| 58|management|married|secondary|     no|    407|    yes|  no|cellular|     145|       2|   -1|       0| unknown| no|[3.15034616239782...|[0.95892235939552...|       0.0|\n|  0.0|(30,[0,11,13,16,1...| 60|management|married|secondary|     no|    725|    yes|  no|cellular|     266|       1|   -1|       0| unknown| no|[2.57955929510873...|[0.92953440831591...|       0.0|\n|  0.0|(30,[0,11,13,16,1...| 30|management|married|secondary|     no|      0|    yes|  no|cellular|     756|       3|   -1|       0| unknown| no|[0.60079049595689...|[0.64583713841231...|       0.0|\n|  0.0|(30,[0,11,13,16,1...| 40|management|married|secondary|     no|    643|    yes|  no|cellular|      74|       2|  256|       1| failure| no|[3.12468073552480...|[0.95789939862378...|       0.0|\n|  0.0|(30,[0,11,13,16,1...| 32|management|married|secondary|     no|   3935|    yes|  no| unknown|     129|       2|   -1|       0| unknown| no|[4.27596651573881...|[0.98629191432219...|       0.0|\n|  0.0|(30,[0,11,13,16,1...| 34|management|married|secondary|     no|   -294|    yes|  no| unknown|     532|       2|   -1|       0| unknown| no|[2.56254537926277...|[0.92841181667033...|       0.0|\n+-----+--------------------+---+----------+-------+---------+-------+-------+-------+----+--------+--------+--------+-----+--------+--------+---+--------------------+--------------------+----------+\nonly showing top 10 rows\n\n",
       "datasetInfos": [],
       "metadata": {},
       "removedWidgets": [],
       "type": "ansi"
      }
     },
     "output_type": "display_data"
    }
   ],
   "source": [
    "# [YOUR CODE HERE]\n",
    "predictions.show(10)"
   ]
  },
  {
   "cell_type": "code",
   "execution_count": null,
   "metadata": {
    "application/vnd.databricks.v1+cell": {
     "inputWidgets": {},
     "nuid": "84136489-733a-443b-883b-36b2ffc30977",
     "showTitle": false,
     "title": ""
    }
   },
   "outputs": [
    {
     "data": {
      "text/plain": [
       "+---+----------+-----+--------------------+----------+--------------------+\n",
       "|age|       job|label|       rawPrediction|prediction|         probability|\n",
       "+---+----------+-----+--------------------+----------+--------------------+\n",
       "| 33|management|  0.0|[3.34459257546136...|       0.0|[0.96592731579825...|\n",
       "| 36|management|  0.0|[3.49558283425373...|       0.0|[0.97056182588136...|\n",
       "| 44|management|  0.0|[3.88599495292370...|       0.0|[0.97988550340667...|\n",
       "| 48|management|  0.0|[1.00530053953457...|       0.0|[0.73209945072549...|\n",
       "| 58|management|  0.0|[3.15034616239782...|       0.0|[0.95892235939552...|\n",
       "| 60|management|  0.0|[2.57955929510873...|       0.0|[0.92953440831591...|\n",
       "| 30|management|  0.0|[0.60079049595689...|       0.0|[0.64583713841231...|\n",
       "| 40|management|  0.0|[3.12468073552480...|       0.0|[0.95789939862378...|\n",
       "| 32|management|  0.0|[4.27596651573881...|       0.0|[0.98629191432219...|\n",
       "| 34|management|  0.0|[2.56254537926277...|       0.0|[0.92841181667033...|\n",
       "+---+----------+-----+--------------------+----------+--------------------+\n",
       "only showing top 10 rows\n",
       "\n"
      ]
     },
     "metadata": {
      "application/vnd.databricks.v1+output": {
       "addedWidgets": {},
       "arguments": {},
       "data": "+---+----------+-----+--------------------+----------+--------------------+\n|age|       job|label|       rawPrediction|prediction|         probability|\n+---+----------+-----+--------------------+----------+--------------------+\n| 33|management|  0.0|[3.34459257546136...|       0.0|[0.96592731579825...|\n| 36|management|  0.0|[3.49558283425373...|       0.0|[0.97056182588136...|\n| 44|management|  0.0|[3.88599495292370...|       0.0|[0.97988550340667...|\n| 48|management|  0.0|[1.00530053953457...|       0.0|[0.73209945072549...|\n| 58|management|  0.0|[3.15034616239782...|       0.0|[0.95892235939552...|\n| 60|management|  0.0|[2.57955929510873...|       0.0|[0.92953440831591...|\n| 30|management|  0.0|[0.60079049595689...|       0.0|[0.64583713841231...|\n| 40|management|  0.0|[3.12468073552480...|       0.0|[0.95789939862378...|\n| 32|management|  0.0|[4.27596651573881...|       0.0|[0.98629191432219...|\n| 34|management|  0.0|[2.56254537926277...|       0.0|[0.92841181667033...|\n+---+----------+-----+--------------------+----------+--------------------+\nonly showing top 10 rows\n\n",
       "datasetInfos": [],
       "metadata": {},
       "removedWidgets": [],
       "type": "ansi"
      }
     },
     "output_type": "display_data"
    }
   ],
   "source": [
    "predictions.select('age', 'job', 'label', 'rawPrediction', 'prediction', 'probability').show(10)"
   ]
  },
  {
   "cell_type": "markdown",
   "metadata": {
    "application/vnd.databricks.v1+cell": {
     "inputWidgets": {},
     "nuid": "1e976205-ae84-4164-9db7-413ec3a27011",
     "showTitle": false,
     "title": ""
    }
   },
   "source": [
    "5. What is the area under the curve?\n",
    "\n",
    "    You can find it with the `evaluator.evaluate()` function."
   ]
  },
  {
   "cell_type": "code",
   "execution_count": null,
   "metadata": {
    "application/vnd.databricks.v1+cell": {
     "inputWidgets": {},
     "nuid": "5308cabd-37c2-43d2-bb24-19d638ec54e9",
     "showTitle": false,
     "title": ""
    }
   },
   "outputs": [
    {
     "data": {
      "text/plain": [
       "Area under the curve: 0.874418791085453\n"
      ]
     },
     "metadata": {
      "application/vnd.databricks.v1+output": {
       "addedWidgets": {},
       "arguments": {},
       "data": "Area under the curve: 0.874418791085453\n",
       "datasetInfos": [],
       "metadata": {},
       "removedWidgets": [],
       "type": "ansi"
      }
     },
     "output_type": "display_data"
    }
   ],
   "source": [
    "from pyspark.ml.evaluation import BinaryClassificationEvaluator\n",
    "\n",
    "evaluator = BinaryClassificationEvaluator()\n",
    "# [YOUR CODE HERE]\n",
    "print(\"Area under the curve:\", evaluator.evaluate(predictions))"
   ]
  },
  {
   "cell_type": "markdown",
   "metadata": {
    "application/vnd.databricks.v1+cell": {
     "inputWidgets": {},
     "nuid": "9a5ca7ac-9dd1-4610-93c2-41a53c40da74",
     "showTitle": false,
     "title": ""
    }
   },
   "source": [
    "## OPTIONAL: HyperParameter Tuning a Gradient-Boosted Tree Classifier\n",
    "\n",
    "1. Fit and make predictions using `GBTClassifier`. The syntax will match what we did above with `LogisticRegression`."
   ]
  },
  {
   "cell_type": "code",
   "execution_count": null,
   "metadata": {
    "application/vnd.databricks.v1+cell": {
     "inputWidgets": {},
     "nuid": "e207bd8b-47a0-435a-8e82-affae0da0b9c",
     "showTitle": false,
     "title": ""
    }
   },
   "outputs": [
    {
     "data": {
      "text/plain": [
       "+---+----------+-----+--------------------+----------+--------------------+\n",
       "|age|       job|label|       rawPrediction|prediction|         probability|\n",
       "+---+----------+-----+--------------------+----------+--------------------+\n",
       "| 33|management|  0.0|[1.22428478288498...|       0.0|[0.92045678297830...|\n",
       "| 36|management|  0.0|[1.30612818723414...|       0.0|[0.93164622568969...|\n",
       "| 44|management|  0.0|[1.20116550198106...|       0.0|[0.91700488159109...|\n",
       "| 48|management|  0.0|[0.74718401168223...|       0.0|[0.81673298401522...|\n",
       "| 58|management|  0.0|[1.25409700523478...|       0.0|[0.92471425789957...|\n",
       "| 60|management|  0.0|[0.27768603688369...|       0.0|[0.63538105272691...|\n",
       "| 30|management|  0.0|[-0.1675670653450...|       1.0|[0.41699193696913...|\n",
       "| 40|management|  0.0|[1.31636773767878...|       0.0|[0.93293889427248...|\n",
       "| 32|management|  0.0|[1.26094374616973...|       0.0|[0.92566204102669...|\n",
       "| 34|management|  0.0|[0.83120327588185...|       0.0|[0.84056078954223...|\n",
       "+---+----------+-----+--------------------+----------+--------------------+\n",
       "only showing top 10 rows\n",
       "\n"
      ]
     },
     "metadata": {
      "application/vnd.databricks.v1+output": {
       "addedWidgets": {},
       "arguments": {},
       "data": "+---+----------+-----+--------------------+----------+--------------------+\n|age|       job|label|       rawPrediction|prediction|         probability|\n+---+----------+-----+--------------------+----------+--------------------+\n| 33|management|  0.0|[1.22428478288498...|       0.0|[0.92045678297830...|\n| 36|management|  0.0|[1.30612818723414...|       0.0|[0.93164622568969...|\n| 44|management|  0.0|[1.20116550198106...|       0.0|[0.91700488159109...|\n| 48|management|  0.0|[0.74718401168223...|       0.0|[0.81673298401522...|\n| 58|management|  0.0|[1.25409700523478...|       0.0|[0.92471425789957...|\n| 60|management|  0.0|[0.27768603688369...|       0.0|[0.63538105272691...|\n| 30|management|  0.0|[-0.1675670653450...|       1.0|[0.41699193696913...|\n| 40|management|  0.0|[1.31636773767878...|       0.0|[0.93293889427248...|\n| 32|management|  0.0|[1.26094374616973...|       0.0|[0.92566204102669...|\n| 34|management|  0.0|[0.83120327588185...|       0.0|[0.84056078954223...|\n+---+----------+-----+--------------------+----------+--------------------+\nonly showing top 10 rows\n\n",
       "datasetInfos": [],
       "metadata": {},
       "removedWidgets": [],
       "type": "ansi"
      }
     },
     "output_type": "display_data"
    }
   ],
   "source": [
    "from pyspark.ml.classification import GBTClassifier\n",
    "\n",
    "gbt = GBTClassifier(maxIter=10)\n",
    "gbtModel = gbt.fit(train)\n",
    "predictions = gbtModel.transform(test)\n",
    "predictions.select('age', 'job', 'label', 'rawPrediction', 'prediction', 'probability').show(10)"
   ]
  },
  {
   "cell_type": "markdown",
   "metadata": {
    "application/vnd.databricks.v1+cell": {
     "inputWidgets": {},
     "nuid": "eafee88c-db02-4818-ae96-6165bd61ca1a",
     "showTitle": false,
     "title": ""
    }
   },
   "source": [
    "2. Run some cross validation to compare different parameters.\n",
    "\n",
    "    Note that it can take a while because it's training over many gradient boosted trees. Give it at least 10 minutes to complete."
   ]
  },
  {
   "cell_type": "code",
   "execution_count": null,
   "metadata": {
    "application/vnd.databricks.v1+cell": {
     "inputWidgets": {},
     "nuid": "0e9fcb9e-a99a-41fa-bc9f-e58a5f5513bb",
     "showTitle": false,
     "title": ""
    }
   },
   "outputs": [
    {
     "data": {
      "text/plain": [
       "Out[31]: 0.8635934171648425"
      ]
     },
     "metadata": {
      "application/vnd.databricks.v1+output": {
       "addedWidgets": {},
       "arguments": {},
       "data": "Out[31]: 0.8635934171648425",
       "datasetInfos": [],
       "metadata": {},
       "removedWidgets": [],
       "type": "ansi"
      }
     },
     "output_type": "display_data"
    }
   ],
   "source": [
    "from pyspark.ml.tuning import ParamGridBuilder, CrossValidator\n",
    "paramGrid = (ParamGridBuilder()\n",
    "             .addGrid(gbt.maxDepth, [2, 4, 6])\n",
    "             .addGrid(gbt.maxBins, [20, 60])\n",
    "             .addGrid(gbt.maxIter, [10, 20])\n",
    "             .build())\n",
    "cv = CrossValidator(estimator=gbt, estimatorParamMaps=paramGrid, evaluator=evaluator, numFolds=5)\n",
    "cvModel = cv.fit(train)\n",
    "predictions = cvModel.transform(test)\n",
    "evaluator.evaluate(predictions)"
   ]
  },
  {
   "cell_type": "markdown",
   "metadata": {
    "application/vnd.databricks.v1+cell": {
     "inputWidgets": {},
     "nuid": "074ff0e6-3f4d-4e5d-ae2e-1ee043072b66",
     "showTitle": false,
     "title": ""
    }
   },
   "source": [
    "## Acknowledgements"
   ]
  },
  {
   "cell_type": "markdown",
   "metadata": {
    "application/vnd.databricks.v1+cell": {
     "inputWidgets": {},
     "nuid": "b3b8105c-fcad-4bdb-a0dc-f00d7ed0d109",
     "showTitle": false,
     "title": ""
    }
   },
   "source": [
    "This notebook is adapted from [Machine Learning with PySpark and MLlib](https://towardsdatascience.com/machine-learning-with-pyspark-and-mllib-solving-a-binary-classification-problem-96396065d2aa)"
   ]
  }
 ],
 "metadata": {
  "application/vnd.databricks.v1+notebook": {
   "dashboards": [],
   "language": "python",
   "notebookMetadata": {
    "pythonIndentUnit": 4
   },
   "notebookName": "subscription-prediction",
   "notebookOrigID": 2556157511535106,
   "widgets": {}
  },
  "kernelspec": {
   "display_name": "Python 3 (ipykernel)",
   "language": "python",
   "name": "python3"
  },
  "language_info": {
   "codemirror_mode": {
    "name": "ipython",
    "version": 3
   },
   "file_extension": ".py",
   "mimetype": "text/x-python",
   "name": "python",
   "nbconvert_exporter": "python",
   "pygments_lexer": "ipython3",
   "version": "3.9.7"
  },
  "vscode": {
   "interpreter": {
    "hash": "c57794392b841cffd8686d5c4548e4e2ec78521f49300d60954d1380f1b4bd1f"
   }
  }
 },
 "nbformat": 4,
 "nbformat_minor": 4
}
