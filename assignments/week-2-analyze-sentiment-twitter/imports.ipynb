{
 "cells": [
  {
   "cell_type": "code",
   "execution_count": 3,
   "id": "dd8ca316",
   "metadata": {
    "execution": {
     "iopub.execute_input": "2022-06-28T02:27:21.678989Z",
     "iopub.status.busy": "2022-06-28T02:27:21.673860Z",
     "iopub.status.idle": "2022-06-28T02:30:12.625856Z",
     "shell.execute_reply": "2022-06-28T02:30:12.623670Z",
     "shell.execute_reply.started": "2022-06-28T02:27:21.678846Z"
    }
   },
   "outputs": [
    {
     "name": "stdout",
     "output_type": "stream",
     "text": [
      "Collecting transformers\n",
      "  Downloading transformers-4.20.1-py3-none-any.whl (4.4 MB)\n",
      "\u001b[2K     \u001b[90m━━━━━━━━━━━━━━━━━━━━━━━━━━━━━━━━━━━━━━━━\u001b[0m \u001b[32m4.4/4.4 MB\u001b[0m \u001b[31m13.1 MB/s\u001b[0m eta \u001b[36m0:00:00\u001b[0m00:01\u001b[0m0:01\u001b[0m\n",
      "\u001b[?25hCollecting filelock\n",
      "  Downloading filelock-3.7.1-py3-none-any.whl (10 kB)\n",
      "Collecting tqdm>=4.27\n",
      "  Downloading tqdm-4.64.0-py2.py3-none-any.whl (78 kB)\n",
      "\u001b[2K     \u001b[90m━━━━━━━━━━━━━━━━━━━━━━━━━━━━━━━━━━━━━━━━\u001b[0m \u001b[32m78.4/78.4 kB\u001b[0m \u001b[31m10.1 MB/s\u001b[0m eta \u001b[36m0:00:00\u001b[0m\n",
      "\u001b[?25hCollecting numpy>=1.17\n",
      "  Downloading numpy-1.23.0-cp38-cp38-manylinux_2_17_x86_64.manylinux2014_x86_64.whl (17.1 MB)\n",
      "\u001b[2K     \u001b[90m━━━━━━━━━━━━━━━━━━━━━━━━━━━━━━━━━━━━━━━━\u001b[0m \u001b[32m17.1/17.1 MB\u001b[0m \u001b[31m29.1 MB/s\u001b[0m eta \u001b[36m0:00:00\u001b[0m00:01\u001b[0m00:01\u001b[0m\n",
      "\u001b[?25hCollecting huggingface-hub<1.0,>=0.1.0\n",
      "  Downloading huggingface_hub-0.8.1-py3-none-any.whl (101 kB)\n",
      "\u001b[2K     \u001b[90m━━━━━━━━━━━━━━━━━━━━━━━━━━━━━━━━━━━━━━\u001b[0m \u001b[32m101.5/101.5 kB\u001b[0m \u001b[31m13.2 MB/s\u001b[0m eta \u001b[36m0:00:00\u001b[0m\n",
      "\u001b[?25hCollecting requests\n",
      "  Downloading requests-2.28.0-py3-none-any.whl (62 kB)\n",
      "\u001b[2K     \u001b[90m━━━━━━━━━━━━━━━━━━━━━━━━━━━━━━━━━━━━━━━━\u001b[0m \u001b[32m62.8/62.8 kB\u001b[0m \u001b[31m9.6 MB/s\u001b[0m eta \u001b[36m0:00:00\u001b[0m\n",
      "\u001b[?25hCollecting pyyaml>=5.1\n",
      "  Downloading PyYAML-6.0-cp38-cp38-manylinux_2_5_x86_64.manylinux1_x86_64.manylinux_2_12_x86_64.manylinux2010_x86_64.whl (701 kB)\n",
      "\u001b[2K     \u001b[90m━━━━━━━━━━━━━━━━━━━━━━━━━━━━━━━━━━━━━━\u001b[0m \u001b[32m701.2/701.2 kB\u001b[0m \u001b[31m27.7 MB/s\u001b[0m eta \u001b[36m0:00:00\u001b[0m\n",
      "\u001b[?25hRequirement already satisfied: packaging>=20.0 in /home/damir/miniconda3/envs/sa/lib/python3.8/site-packages (from transformers) (21.3)\n",
      "Collecting tokenizers!=0.11.3,<0.13,>=0.11.1\n",
      "  Downloading tokenizers-0.12.1-cp38-cp38-manylinux_2_12_x86_64.manylinux2010_x86_64.whl (6.6 MB)\n",
      "\u001b[2K     \u001b[90m━━━━━━━━━━━━━━━━━━━━━━━━━━━━━━━━━━━━━━━━\u001b[0m \u001b[32m6.6/6.6 MB\u001b[0m \u001b[31m30.7 MB/s\u001b[0m eta \u001b[36m0:00:00\u001b[0m00:01\u001b[0m00:01\u001b[0m\n",
      "\u001b[?25hCollecting regex!=2019.12.17\n",
      "  Downloading regex-2022.6.2-cp38-cp38-manylinux_2_17_x86_64.manylinux2014_x86_64.whl (764 kB)\n",
      "\u001b[2K     \u001b[90m━━━━━━━━━━━━━━━━━━━━━━━━━━━━━━━━━━━━━━\u001b[0m \u001b[32m764.9/764.9 kB\u001b[0m \u001b[31m20.3 MB/s\u001b[0m eta \u001b[36m0:00:00\u001b[0m00:01\u001b[0m\n",
      "\u001b[?25hCollecting typing-extensions>=3.7.4.3\n",
      "  Downloading typing_extensions-4.2.0-py3-none-any.whl (24 kB)\n",
      "Requirement already satisfied: pyparsing!=3.0.5,>=2.0.2 in /home/damir/miniconda3/envs/sa/lib/python3.8/site-packages (from packaging>=20.0->transformers) (3.0.9)\n",
      "Collecting certifi>=2017.4.17\n",
      "  Downloading certifi-2022.6.15-py3-none-any.whl (160 kB)\n",
      "\u001b[2K     \u001b[90m━━━━━━━━━━━━━━━━━━━━━━━━━━━━━━━━━━━━━━\u001b[0m \u001b[32m160.2/160.2 kB\u001b[0m \u001b[31m24.3 MB/s\u001b[0m eta \u001b[36m0:00:00\u001b[0m\n",
      "\u001b[?25hCollecting idna<4,>=2.5\n",
      "  Downloading idna-3.3-py3-none-any.whl (61 kB)\n",
      "\u001b[2K     \u001b[90m━━━━━━━━━━━━━━━━━━━━━━━━━━━━━━━━━━━━━━━━\u001b[0m \u001b[32m61.2/61.2 kB\u001b[0m \u001b[31m6.8 MB/s\u001b[0m eta \u001b[36m0:00:00\u001b[0m\n",
      "\u001b[?25hCollecting charset-normalizer~=2.0.0\n",
      "  Downloading charset_normalizer-2.0.12-py3-none-any.whl (39 kB)\n",
      "Collecting urllib3<1.27,>=1.21.1\n",
      "  Downloading urllib3-1.26.9-py2.py3-none-any.whl (138 kB)\n",
      "\u001b[2K     \u001b[90m━━━━━━━━━━━━━━━━━━━━━━━━━━━━━━━━━━━━━━\u001b[0m \u001b[32m139.0/139.0 kB\u001b[0m \u001b[31m21.5 MB/s\u001b[0m eta \u001b[36m0:00:00\u001b[0m\n",
      "\u001b[?25hInstalling collected packages: tokenizers, urllib3, typing-extensions, tqdm, regex, pyyaml, numpy, idna, filelock, charset-normalizer, certifi, requests, huggingface-hub, transformers\n",
      "Successfully installed certifi-2022.6.15 charset-normalizer-2.0.12 filelock-3.7.1 huggingface-hub-0.8.1 idna-3.3 numpy-1.23.0 pyyaml-6.0 regex-2022.6.2 requests-2.28.0 tokenizers-0.12.1 tqdm-4.64.0 transformers-4.20.1 typing-extensions-4.2.0 urllib3-1.26.9\n",
      "Looking in indexes: https://pypi.org/simple, https://download.pytorch.org/whl/cu113\n",
      "Collecting torch\n",
      "  Downloading https://download.pytorch.org/whl/cu113/torch-1.12.0%2Bcu113-cp38-cp38-linux_x86_64.whl (1837.6 MB)\n",
      "\u001b[2K     \u001b[90m━━━━━━━━━━━━━━━━━━━━━━━━━━━━━━━━━━━━━━━━\u001b[0m \u001b[32m1.8/1.8 GB\u001b[0m \u001b[31m505.0 kB/s\u001b[0m eta \u001b[36m0:00:00\u001b[0m0:01\u001b[0m00:02\u001b[0m\n",
      "\u001b[?25hCollecting torchvision\n",
      "  Downloading https://download.pytorch.org/whl/cu113/torchvision-0.13.0%2Bcu113-cp38-cp38-linux_x86_64.whl (23.4 MB)\n",
      "\u001b[2K     \u001b[90m━━━━━━━━━━━━━━━━━━━━━━━━━━━━━━━━━━━━━━━━\u001b[0m \u001b[32m23.4/23.4 MB\u001b[0m \u001b[31m28.2 MB/s\u001b[0m eta \u001b[36m0:00:00\u001b[0m00:01\u001b[0m00:01\u001b[0m\n",
      "\u001b[?25hCollecting torchaudio\n",
      "  Downloading https://download.pytorch.org/whl/cu113/torchaudio-0.12.0%2Bcu113-cp38-cp38-linux_x86_64.whl (3.8 MB)\n",
      "\u001b[2K     \u001b[90m━━━━━━━━━━━━━━━━━━━━━━━━━━━━━━━━━━━━━━━━\u001b[0m \u001b[32m3.8/3.8 MB\u001b[0m \u001b[31m16.4 MB/s\u001b[0m eta \u001b[36m0:00:00\u001b[0m00:01\u001b[0m00:01\u001b[0m\n",
      "\u001b[?25hRequirement already satisfied: typing-extensions in /home/damir/miniconda3/envs/sa/lib/python3.8/site-packages (from torch) (4.2.0)\n",
      "Collecting pillow!=8.3.*,>=5.3.0\n",
      "  Downloading Pillow-9.1.1-cp38-cp38-manylinux_2_17_x86_64.manylinux2014_x86_64.whl (3.1 MB)\n",
      "\u001b[2K     \u001b[90m━━━━━━━━━━━━━━━━━━━━━━━━━━━━━━━━━━━━━━━━\u001b[0m \u001b[32m3.1/3.1 MB\u001b[0m \u001b[31m12.4 MB/s\u001b[0m eta \u001b[36m0:00:00\u001b[0m00:01\u001b[0m0:01\u001b[0m\n",
      "\u001b[?25hRequirement already satisfied: requests in /home/damir/miniconda3/envs/sa/lib/python3.8/site-packages (from torchvision) (2.28.0)\n",
      "Requirement already satisfied: numpy in /home/damir/miniconda3/envs/sa/lib/python3.8/site-packages (from torchvision) (1.23.0)\n",
      "Requirement already satisfied: urllib3<1.27,>=1.21.1 in /home/damir/miniconda3/envs/sa/lib/python3.8/site-packages (from requests->torchvision) (1.26.9)\n",
      "Requirement already satisfied: idna<4,>=2.5 in /home/damir/miniconda3/envs/sa/lib/python3.8/site-packages (from requests->torchvision) (3.3)\n",
      "Requirement already satisfied: charset-normalizer~=2.0.0 in /home/damir/miniconda3/envs/sa/lib/python3.8/site-packages (from requests->torchvision) (2.0.12)\n",
      "Requirement already satisfied: certifi>=2017.4.17 in /home/damir/miniconda3/envs/sa/lib/python3.8/site-packages (from requests->torchvision) (2022.6.15)\n",
      "Installing collected packages: torch, pillow, torchvision, torchaudio\n",
      "Successfully installed pillow-9.1.1 torch-1.12.0+cu113 torchaudio-0.12.0+cu113 torchvision-0.13.0+cu113\n",
      "Collecting emoji==0.6.0\n",
      "  Downloading emoji-0.6.0.tar.gz (51 kB)\n",
      "\u001b[2K     \u001b[90m━━━━━━━━━━━━━━━━━━━━━━━━━━━━━━━━━━━━━━━\u001b[0m \u001b[32m51.0/51.0 kB\u001b[0m \u001b[31m983.5 kB/s\u001b[0m eta \u001b[36m0:00:00\u001b[0m \u001b[36m0:00:01\u001b[0m\n",
      "\u001b[?25h  Preparing metadata (setup.py) ... \u001b[?25ldone\n",
      "\u001b[?25hBuilding wheels for collected packages: emoji\n",
      "  Building wheel for emoji (setup.py) ... \u001b[?25ldone\n",
      "\u001b[?25h  Created wheel for emoji: filename=emoji-0.6.0-py3-none-any.whl size=49719 sha256=fc4b0b9b97abf52fd7a083501b8a6ee65a675fbf76eb160525599e50a789c985\n",
      "  Stored in directory: /home/damir/.cache/pip/wheels/43/3d/82/e7baffa5e86346c6178d7750dba6e8ef063282a37fc563f8f8\n",
      "Successfully built emoji\n",
      "Installing collected packages: emoji\n",
      "Successfully installed emoji-0.6.0\n"
     ]
    },
    {
     "data": {
      "application/vnd.jupyter.widget-view+json": {
       "model_id": "a4e3fd8f2abe4041ab08111bac5e019f",
       "version_major": 2,
       "version_minor": 0
      },
      "text/plain": [
       "Downloading:   0%|          | 0.00/1.13k [00:00<?, ?B/s]"
      ]
     },
     "metadata": {},
     "output_type": "display_data"
    },
    {
     "data": {
      "application/vnd.jupyter.widget-view+json": {
       "model_id": "9def86bf46fc475ab5cdee37e8dc79a6",
       "version_major": 2,
       "version_minor": 0
      },
      "text/plain": [
       "Downloading:   0%|          | 0.00/890 [00:00<?, ?B/s]"
      ]
     },
     "metadata": {},
     "output_type": "display_data"
    },
    {
     "data": {
      "application/vnd.jupyter.widget-view+json": {
       "model_id": "469a67ca6c65450195b30328e7a3b514",
       "version_major": 2,
       "version_minor": 0
      },
      "text/plain": [
       "Downloading:   0%|          | 0.00/515M [00:00<?, ?B/s]"
      ]
     },
     "metadata": {},
     "output_type": "display_data"
    },
    {
     "data": {
      "application/vnd.jupyter.widget-view+json": {
       "model_id": "e6b5ffe5328349eea0a326f2a9ff2e65",
       "version_major": 2,
       "version_minor": 0
      },
      "text/plain": [
       "Downloading:   0%|          | 0.00/295 [00:00<?, ?B/s]"
      ]
     },
     "metadata": {},
     "output_type": "display_data"
    },
    {
     "data": {
      "application/vnd.jupyter.widget-view+json": {
       "model_id": "9cc608feb60d4e6483c58786c878abdd",
       "version_major": 2,
       "version_minor": 0
      },
      "text/plain": [
       "Downloading:   0%|          | 0.00/824k [00:00<?, ?B/s]"
      ]
     },
     "metadata": {},
     "output_type": "display_data"
    },
    {
     "data": {
      "application/vnd.jupyter.widget-view+json": {
       "model_id": "e2d9fb6b3d674fe39236d6d4336cae66",
       "version_major": 2,
       "version_minor": 0
      },
      "text/plain": [
       "Downloading:   0%|          | 0.00/1.03M [00:00<?, ?B/s]"
      ]
     },
     "metadata": {},
     "output_type": "display_data"
    },
    {
     "data": {
      "application/vnd.jupyter.widget-view+json": {
       "model_id": "bfe729c9067942c89fc793dc1b5a694f",
       "version_major": 2,
       "version_minor": 0
      },
      "text/plain": [
       "Downloading:   0%|          | 0.00/17.0 [00:00<?, ?B/s]"
      ]
     },
     "metadata": {},
     "output_type": "display_data"
    },
    {
     "data": {
      "application/vnd.jupyter.widget-view+json": {
       "model_id": "c3dc54178881418f97f8f8f097697a4e",
       "version_major": 2,
       "version_minor": 0
      },
      "text/plain": [
       "Downloading:   0%|          | 0.00/150 [00:00<?, ?B/s]"
      ]
     },
     "metadata": {},
     "output_type": "display_data"
    }
   ],
   "source": [
    "!pip install transformers # torch\n",
    "!pip3 install torch torchvision torchaudio --extra-index-url https://download.pytorch.org/whl/cu113\n",
    "!pip install emoji==0.6.0\n",
    "\n",
    "from transformers import pipeline\n",
    "\n",
    "pinstall = pipeline(model=\"finiteautomata/bertweet-base-sentiment-analysis\")"
   ]
  },
  {
   "cell_type": "code",
   "execution_count": null,
   "id": "29f72579-1f24-444e-91d5-1b4a00d17456",
   "metadata": {},
   "outputs": [],
   "source": []
  }
 ],
 "metadata": {
  "kernelspec": {
   "display_name": "sa",
   "language": "python",
   "name": "conda-env-sa-py"
  },
  "language_info": {
   "codemirror_mode": {
    "name": "ipython",
    "version": 3
   },
   "file_extension": ".py",
   "mimetype": "text/x-python",
   "name": "python",
   "nbconvert_exporter": "python",
   "pygments_lexer": "ipython3",
   "version": "3.8.13"
  },
  "widgets": {
   "application/vnd.jupyter.widget-state+json": {
    "state": {
     "007a6225a8a248cf9fa17b8809bc9b08": {
      "model_module": "@jupyter-widgets/base",
      "model_module_version": "1.2.0",
      "model_name": "LayoutModel",
      "state": {}
     },
     "00d6f3c8fa974cd0a352cef571adf8ae": {
      "model_module": "@jupyter-widgets/base",
      "model_module_version": "1.2.0",
      "model_name": "LayoutModel",
      "state": {}
     },
     "046a36f4edb4444e9d287a6d1027d04e": {
      "model_module": "@jupyter-widgets/base",
      "model_module_version": "1.2.0",
      "model_name": "LayoutModel",
      "state": {}
     },
     "047f2e436894493b90c223f8b1afa22b": {
      "model_module": "@jupyter-widgets/controls",
      "model_module_version": "1.5.0",
      "model_name": "HTMLModel",
      "state": {
       "layout": "IPY_MODEL_db83c00359ee4931a65126553b3ac976",
       "style": "IPY_MODEL_bcd456def967469cbdce572474bcfa62",
       "value": "Downloading: 100%"
      }
     },
     "06df6e1e579d44399fc1a6f1330a2f0d": {
      "model_module": "@jupyter-widgets/base",
      "model_module_version": "1.2.0",
      "model_name": "LayoutModel",
      "state": {}
     },
     "07aba261c8a246c88fa5b8e9d0b4b169": {
      "model_module": "@jupyter-widgets/base",
      "model_module_version": "1.2.0",
      "model_name": "LayoutModel",
      "state": {}
     },
     "07ecc70e14b94a1cb12ea6b117660f5b": {
      "model_module": "@jupyter-widgets/controls",
      "model_module_version": "1.5.0",
      "model_name": "DescriptionStyleModel",
      "state": {
       "description_width": ""
      }
     },
     "0efc9146d38f4f1db7c41049f6063401": {
      "model_module": "@jupyter-widgets/controls",
      "model_module_version": "1.5.0",
      "model_name": "HTMLModel",
      "state": {
       "layout": "IPY_MODEL_07aba261c8a246c88fa5b8e9d0b4b169",
       "style": "IPY_MODEL_4968bdb6ceb74da6bfd5b56c38a3b1f6",
       "value": "Downloading: 100%"
      }
     },
     "138168ae6b7c43ff9ed30d5be8eab80c": {
      "model_module": "@jupyter-widgets/base",
      "model_module_version": "1.2.0",
      "model_name": "LayoutModel",
      "state": {}
     },
     "16e89e16804b4823bb930ac8ce96194a": {
      "model_module": "@jupyter-widgets/controls",
      "model_module_version": "1.5.0",
      "model_name": "HTMLModel",
      "state": {
       "layout": "IPY_MODEL_2f6898d736614aa69f33455ec566be68",
       "style": "IPY_MODEL_276ded5f5f3b4f809d139b5ca0be3326",
       "value": "Downloading: 100%"
      }
     },
     "183e9f10a9f840c9b61f6d9c3e21916f": {
      "model_module": "@jupyter-widgets/controls",
      "model_module_version": "1.5.0",
      "model_name": "FloatProgressModel",
      "state": {
       "bar_style": "success",
       "layout": "IPY_MODEL_27f051c934b54d31be24aa42aa43ae90",
       "max": 150,
       "style": "IPY_MODEL_b603059a020049b69101d1933f04ba0d",
       "value": 150
      }
     },
     "19ad3372cbaf46549999352753eb379d": {
      "model_module": "@jupyter-widgets/base",
      "model_module_version": "1.2.0",
      "model_name": "LayoutModel",
      "state": {}
     },
     "225d34415bf54daea8f509d3c176344a": {
      "model_module": "@jupyter-widgets/controls",
      "model_module_version": "1.5.0",
      "model_name": "HTMLModel",
      "state": {
       "layout": "IPY_MODEL_eeee22a933ce486ba52c571abdbe45a1",
       "style": "IPY_MODEL_07ecc70e14b94a1cb12ea6b117660f5b",
       "value": "Downloading: 100%"
      }
     },
     "276ded5f5f3b4f809d139b5ca0be3326": {
      "model_module": "@jupyter-widgets/controls",
      "model_module_version": "1.5.0",
      "model_name": "DescriptionStyleModel",
      "state": {
       "description_width": ""
      }
     },
     "27f051c934b54d31be24aa42aa43ae90": {
      "model_module": "@jupyter-widgets/base",
      "model_module_version": "1.2.0",
      "model_name": "LayoutModel",
      "state": {}
     },
     "2b357e81c3e14fbca3b23a19ac0e0680": {
      "model_module": "@jupyter-widgets/controls",
      "model_module_version": "1.5.0",
      "model_name": "ProgressStyleModel",
      "state": {
       "description_width": ""
      }
     },
     "2f6898d736614aa69f33455ec566be68": {
      "model_module": "@jupyter-widgets/base",
      "model_module_version": "1.2.0",
      "model_name": "LayoutModel",
      "state": {}
     },
     "2fc683e384d24527aae1031f012b7f52": {
      "model_module": "@jupyter-widgets/base",
      "model_module_version": "1.2.0",
      "model_name": "LayoutModel",
      "state": {}
     },
     "34f83c48e3be4110bd05740933beebfa": {
      "model_module": "@jupyter-widgets/controls",
      "model_module_version": "1.5.0",
      "model_name": "FloatProgressModel",
      "state": {
       "bar_style": "success",
       "layout": "IPY_MODEL_87a76dc2d06a4d83b11eb7759790995e",
       "max": 1078931,
       "style": "IPY_MODEL_4368862229344b8aa77e8d8ae4820045",
       "value": 1078931
      }
     },
     "3b8031de49e8422b83a653fdbb23ca88": {
      "model_module": "@jupyter-widgets/controls",
      "model_module_version": "1.5.0",
      "model_name": "DescriptionStyleModel",
      "state": {
       "description_width": ""
      }
     },
     "3faaf04dc1be4a968fd9e0efc935d13d": {
      "model_module": "@jupyter-widgets/controls",
      "model_module_version": "1.5.0",
      "model_name": "FloatProgressModel",
      "state": {
       "bar_style": "success",
       "layout": "IPY_MODEL_b6ffe46287fe4b56bc7abe9fa5284690",
       "max": 295,
       "style": "IPY_MODEL_2b357e81c3e14fbca3b23a19ac0e0680",
       "value": 295
      }
     },
     "3fb98fdd52594964b3501a249ab842da": {
      "model_module": "@jupyter-widgets/base",
      "model_module_version": "1.2.0",
      "model_name": "LayoutModel",
      "state": {}
     },
     "4368862229344b8aa77e8d8ae4820045": {
      "model_module": "@jupyter-widgets/controls",
      "model_module_version": "1.5.0",
      "model_name": "ProgressStyleModel",
      "state": {
       "description_width": ""
      }
     },
     "451800f6a8324fbf86e2f4e577095aed": {
      "model_module": "@jupyter-widgets/controls",
      "model_module_version": "1.5.0",
      "model_name": "DescriptionStyleModel",
      "state": {
       "description_width": ""
      }
     },
     "469a67ca6c65450195b30328e7a3b514": {
      "model_module": "@jupyter-widgets/controls",
      "model_module_version": "1.5.0",
      "model_name": "HBoxModel",
      "state": {
       "children": [
        "IPY_MODEL_709f82a4a05344a9a4bef587c8e02743",
        "IPY_MODEL_dc61890cffcf4aa3bcee7f843108975c",
        "IPY_MODEL_ab3c01c03fdd4fbb8a0a45d642724de1"
       ],
       "layout": "IPY_MODEL_66485c45583c45a2b30ec46943825c5b"
      }
     },
     "4968bdb6ceb74da6bfd5b56c38a3b1f6": {
      "model_module": "@jupyter-widgets/controls",
      "model_module_version": "1.5.0",
      "model_name": "DescriptionStyleModel",
      "state": {
       "description_width": ""
      }
     },
     "4a6da60d2fe943f3958e9d8e7e133bda": {
      "model_module": "@jupyter-widgets/controls",
      "model_module_version": "1.5.0",
      "model_name": "ProgressStyleModel",
      "state": {
       "description_width": ""
      }
     },
     "4c8dd10fef464a3db96c7388d9a6454d": {
      "model_module": "@jupyter-widgets/base",
      "model_module_version": "1.2.0",
      "model_name": "LayoutModel",
      "state": {}
     },
     "4d22405ef1f549aeabfa6b3b66d30d90": {
      "model_module": "@jupyter-widgets/base",
      "model_module_version": "1.2.0",
      "model_name": "LayoutModel",
      "state": {}
     },
     "4dce21ad10ba4f47ada9ab44ba1fa78d": {
      "model_module": "@jupyter-widgets/controls",
      "model_module_version": "1.5.0",
      "model_name": "DescriptionStyleModel",
      "state": {
       "description_width": ""
      }
     },
     "4fa3e514ffec4d78949980942a6cd976": {
      "model_module": "@jupyter-widgets/controls",
      "model_module_version": "1.5.0",
      "model_name": "DescriptionStyleModel",
      "state": {
       "description_width": ""
      }
     },
     "5358e134c5fb4bf19e16966723a3accb": {
      "model_module": "@jupyter-widgets/controls",
      "model_module_version": "1.5.0",
      "model_name": "HTMLModel",
      "state": {
       "layout": "IPY_MODEL_f6bc9f6dc2a6408c9d4e473f0b1ddbd6",
       "style": "IPY_MODEL_451800f6a8324fbf86e2f4e577095aed",
       "value": " 150/150 [00:00&lt;00:00, 8.45kB/s]"
      }
     },
     "53a83afa7539440fa217d81bc0a24e98": {
      "model_module": "@jupyter-widgets/base",
      "model_module_version": "1.2.0",
      "model_name": "LayoutModel",
      "state": {}
     },
     "585af31bf0714c1db7890deeaa10a1b4": {
      "model_module": "@jupyter-widgets/controls",
      "model_module_version": "1.5.0",
      "model_name": "HTMLModel",
      "state": {
       "layout": "IPY_MODEL_dc594425fa704daa8073b2c1b59ebc66",
       "style": "IPY_MODEL_a5bf4fe2051c42bab992ed570a66d4f3",
       "value": " 824k/824k [00:00&lt;00:00, 1.61MB/s]"
      }
     },
     "5940c7146b8e4483b7b04e98bd5b4dc9": {
      "model_module": "@jupyter-widgets/controls",
      "model_module_version": "1.5.0",
      "model_name": "HTMLModel",
      "state": {
       "layout": "IPY_MODEL_4c8dd10fef464a3db96c7388d9a6454d",
       "style": "IPY_MODEL_b7dd61a3ae5b4dfa8b50b38d1d95f261",
       "value": " 1.03M/1.03M [00:00&lt;00:00, 1.63MB/s]"
      }
     },
     "5d6b7d7f5fef48868278eced52aa8572": {
      "model_module": "@jupyter-widgets/controls",
      "model_module_version": "1.5.0",
      "model_name": "DescriptionStyleModel",
      "state": {
       "description_width": ""
      }
     },
     "5e60e1c5157b45a29b2aa1a0ffe4d50c": {
      "model_module": "@jupyter-widgets/controls",
      "model_module_version": "1.5.0",
      "model_name": "HTMLModel",
      "state": {
       "layout": "IPY_MODEL_c26dc40efe3d4367a9137a5c7218d752",
       "style": "IPY_MODEL_4fa3e514ffec4d78949980942a6cd976",
       "value": " 1.13k/1.13k [00:00&lt;00:00, 51.4kB/s]"
      }
     },
     "650ffcc5227b438e8ccd2d044da95419": {
      "model_module": "@jupyter-widgets/controls",
      "model_module_version": "1.5.0",
      "model_name": "ProgressStyleModel",
      "state": {
       "description_width": ""
      }
     },
     "66485c45583c45a2b30ec46943825c5b": {
      "model_module": "@jupyter-widgets/base",
      "model_module_version": "1.2.0",
      "model_name": "LayoutModel",
      "state": {}
     },
     "6da5924c958148c0b7356544cfb94a01": {
      "model_module": "@jupyter-widgets/controls",
      "model_module_version": "1.5.0",
      "model_name": "ProgressStyleModel",
      "state": {
       "description_width": ""
      }
     },
     "709f82a4a05344a9a4bef587c8e02743": {
      "model_module": "@jupyter-widgets/controls",
      "model_module_version": "1.5.0",
      "model_name": "HTMLModel",
      "state": {
       "layout": "IPY_MODEL_00d6f3c8fa974cd0a352cef571adf8ae",
       "style": "IPY_MODEL_da4472a6d08c4158829ce5c6876443c2",
       "value": "Downloading: 100%"
      }
     },
     "72ab940496bf4e968e04045600521388": {
      "model_module": "@jupyter-widgets/controls",
      "model_module_version": "1.5.0",
      "model_name": "HTMLModel",
      "state": {
       "layout": "IPY_MODEL_98209d847761402dbc737d27172a4682",
       "style": "IPY_MODEL_987a5f5fa1a7431bba7de12c0464368e",
       "value": "Downloading: 100%"
      }
     },
     "79a0755a6b7b4b37b3dfc0d17c536291": {
      "model_module": "@jupyter-widgets/controls",
      "model_module_version": "1.5.0",
      "model_name": "FloatProgressModel",
      "state": {
       "bar_style": "success",
       "layout": "IPY_MODEL_c79271a147434aa0a7bbdb6f7fa23c22",
       "max": 890,
       "style": "IPY_MODEL_650ffcc5227b438e8ccd2d044da95419",
       "value": 890
      }
     },
     "7ad047c44f9d455eaceef67b7dbdb3e4": {
      "model_module": "@jupyter-widgets/base",
      "model_module_version": "1.2.0",
      "model_name": "LayoutModel",
      "state": {}
     },
     "7afa6cce168340d7b197953a4b906d20": {
      "model_module": "@jupyter-widgets/base",
      "model_module_version": "1.2.0",
      "model_name": "LayoutModel",
      "state": {}
     },
     "7bd44f0009bd4c07a3622de9205b8231": {
      "model_module": "@jupyter-widgets/base",
      "model_module_version": "1.2.0",
      "model_name": "LayoutModel",
      "state": {}
     },
     "7e2b1bf80bd7443e83a6a7778d319bf8": {
      "model_module": "@jupyter-widgets/controls",
      "model_module_version": "1.5.0",
      "model_name": "HTMLModel",
      "state": {
       "layout": "IPY_MODEL_ab177305a2f94560b8360fd3728a781c",
       "style": "IPY_MODEL_4dce21ad10ba4f47ada9ab44ba1fa78d",
       "value": " 890/890 [00:00&lt;00:00, 49.3kB/s]"
      }
     },
     "80705f5f285443ab8c992654c7de8998": {
      "model_module": "@jupyter-widgets/controls",
      "model_module_version": "1.5.0",
      "model_name": "DescriptionStyleModel",
      "state": {
       "description_width": ""
      }
     },
     "864bf77a46c3423496e3e8997bd81f8a": {
      "model_module": "@jupyter-widgets/controls",
      "model_module_version": "1.5.0",
      "model_name": "HTMLModel",
      "state": {
       "layout": "IPY_MODEL_06df6e1e579d44399fc1a6f1330a2f0d",
       "style": "IPY_MODEL_80705f5f285443ab8c992654c7de8998",
       "value": "Downloading: 100%"
      }
     },
     "87a76dc2d06a4d83b11eb7759790995e": {
      "model_module": "@jupyter-widgets/base",
      "model_module_version": "1.2.0",
      "model_name": "LayoutModel",
      "state": {}
     },
     "8f6bb6c6b54d4dadae8cc6fc29d9cafe": {
      "model_module": "@jupyter-widgets/base",
      "model_module_version": "1.2.0",
      "model_name": "LayoutModel",
      "state": {}
     },
     "98209d847761402dbc737d27172a4682": {
      "model_module": "@jupyter-widgets/base",
      "model_module_version": "1.2.0",
      "model_name": "LayoutModel",
      "state": {}
     },
     "987a5f5fa1a7431bba7de12c0464368e": {
      "model_module": "@jupyter-widgets/controls",
      "model_module_version": "1.5.0",
      "model_name": "DescriptionStyleModel",
      "state": {
       "description_width": ""
      }
     },
     "9cc608feb60d4e6483c58786c878abdd": {
      "model_module": "@jupyter-widgets/controls",
      "model_module_version": "1.5.0",
      "model_name": "HBoxModel",
      "state": {
       "children": [
        "IPY_MODEL_0efc9146d38f4f1db7c41049f6063401",
        "IPY_MODEL_d3629b8904c04965a4e194e6818a829e",
        "IPY_MODEL_585af31bf0714c1db7890deeaa10a1b4"
       ],
       "layout": "IPY_MODEL_7ad047c44f9d455eaceef67b7dbdb3e4"
      }
     },
     "9def86bf46fc475ab5cdee37e8dc79a6": {
      "model_module": "@jupyter-widgets/controls",
      "model_module_version": "1.5.0",
      "model_name": "HBoxModel",
      "state": {
       "children": [
        "IPY_MODEL_cb1fb381e7514eb1a9e4bd0da2970afa",
        "IPY_MODEL_79a0755a6b7b4b37b3dfc0d17c536291",
        "IPY_MODEL_7e2b1bf80bd7443e83a6a7778d319bf8"
       ],
       "layout": "IPY_MODEL_53a83afa7539440fa217d81bc0a24e98"
      }
     },
     "a4e3fd8f2abe4041ab08111bac5e019f": {
      "model_module": "@jupyter-widgets/controls",
      "model_module_version": "1.5.0",
      "model_name": "HBoxModel",
      "state": {
       "children": [
        "IPY_MODEL_047f2e436894493b90c223f8b1afa22b",
        "IPY_MODEL_b9d440b5ac9a42f3988e236c062cf2a8",
        "IPY_MODEL_5e60e1c5157b45a29b2aa1a0ffe4d50c"
       ],
       "layout": "IPY_MODEL_138168ae6b7c43ff9ed30d5be8eab80c"
      }
     },
     "a57d799ca3e44597880c7469aaec2670": {
      "model_module": "@jupyter-widgets/controls",
      "model_module_version": "1.5.0",
      "model_name": "HTMLModel",
      "state": {
       "layout": "IPY_MODEL_7afa6cce168340d7b197953a4b906d20",
       "style": "IPY_MODEL_3b8031de49e8422b83a653fdbb23ca88",
       "value": " 17.0/17.0 [00:00&lt;00:00, 1.09kB/s]"
      }
     },
     "a5bf4fe2051c42bab992ed570a66d4f3": {
      "model_module": "@jupyter-widgets/controls",
      "model_module_version": "1.5.0",
      "model_name": "DescriptionStyleModel",
      "state": {
       "description_width": ""
      }
     },
     "a76b202b83bd45a68e3e2fca6580e9e7": {
      "model_module": "@jupyter-widgets/base",
      "model_module_version": "1.2.0",
      "model_name": "LayoutModel",
      "state": {}
     },
     "a8ec71f40e2843898b000e31e634edfa": {
      "model_module": "@jupyter-widgets/controls",
      "model_module_version": "1.5.0",
      "model_name": "HTMLModel",
      "state": {
       "layout": "IPY_MODEL_19ad3372cbaf46549999352753eb379d",
       "style": "IPY_MODEL_e3a88d2499d9427bafb25f561d3497a2",
       "value": " 295/295 [00:00&lt;00:00, 16.6kB/s]"
      }
     },
     "ab177305a2f94560b8360fd3728a781c": {
      "model_module": "@jupyter-widgets/base",
      "model_module_version": "1.2.0",
      "model_name": "LayoutModel",
      "state": {}
     },
     "ab3c01c03fdd4fbb8a0a45d642724de1": {
      "model_module": "@jupyter-widgets/controls",
      "model_module_version": "1.5.0",
      "model_name": "HTMLModel",
      "state": {
       "layout": "IPY_MODEL_3fb98fdd52594964b3501a249ab842da",
       "style": "IPY_MODEL_5d6b7d7f5fef48868278eced52aa8572",
       "value": " 515M/515M [00:16&lt;00:00, 37.3MB/s]"
      }
     },
     "b603059a020049b69101d1933f04ba0d": {
      "model_module": "@jupyter-widgets/controls",
      "model_module_version": "1.5.0",
      "model_name": "ProgressStyleModel",
      "state": {
       "description_width": ""
      }
     },
     "b6ffe46287fe4b56bc7abe9fa5284690": {
      "model_module": "@jupyter-widgets/base",
      "model_module_version": "1.2.0",
      "model_name": "LayoutModel",
      "state": {}
     },
     "b7dd61a3ae5b4dfa8b50b38d1d95f261": {
      "model_module": "@jupyter-widgets/controls",
      "model_module_version": "1.5.0",
      "model_name": "DescriptionStyleModel",
      "state": {
       "description_width": ""
      }
     },
     "b9d440b5ac9a42f3988e236c062cf2a8": {
      "model_module": "@jupyter-widgets/controls",
      "model_module_version": "1.5.0",
      "model_name": "FloatProgressModel",
      "state": {
       "bar_style": "success",
       "layout": "IPY_MODEL_a76b202b83bd45a68e3e2fca6580e9e7",
       "max": 1160,
       "style": "IPY_MODEL_c1f18459157542afb42ffa6c8f7cd97f",
       "value": 1160
      }
     },
     "bcd456def967469cbdce572474bcfa62": {
      "model_module": "@jupyter-widgets/controls",
      "model_module_version": "1.5.0",
      "model_name": "DescriptionStyleModel",
      "state": {
       "description_width": ""
      }
     },
     "bfe729c9067942c89fc793dc1b5a694f": {
      "model_module": "@jupyter-widgets/controls",
      "model_module_version": "1.5.0",
      "model_name": "HBoxModel",
      "state": {
       "children": [
        "IPY_MODEL_16e89e16804b4823bb930ac8ce96194a",
        "IPY_MODEL_fe55591b7c3044a09fef40363f2b99a4",
        "IPY_MODEL_a57d799ca3e44597880c7469aaec2670"
       ],
       "layout": "IPY_MODEL_007a6225a8a248cf9fa17b8809bc9b08"
      }
     },
     "c1f18459157542afb42ffa6c8f7cd97f": {
      "model_module": "@jupyter-widgets/controls",
      "model_module_version": "1.5.0",
      "model_name": "ProgressStyleModel",
      "state": {
       "description_width": ""
      }
     },
     "c26dc40efe3d4367a9137a5c7218d752": {
      "model_module": "@jupyter-widgets/base",
      "model_module_version": "1.2.0",
      "model_name": "LayoutModel",
      "state": {}
     },
     "c37af4cd4fd245abb787299ed890d3ff": {
      "model_module": "@jupyter-widgets/base",
      "model_module_version": "1.2.0",
      "model_name": "LayoutModel",
      "state": {}
     },
     "c3dc54178881418f97f8f8f097697a4e": {
      "model_module": "@jupyter-widgets/controls",
      "model_module_version": "1.5.0",
      "model_name": "HBoxModel",
      "state": {
       "children": [
        "IPY_MODEL_72ab940496bf4e968e04045600521388",
        "IPY_MODEL_183e9f10a9f840c9b61f6d9c3e21916f",
        "IPY_MODEL_5358e134c5fb4bf19e16966723a3accb"
       ],
       "layout": "IPY_MODEL_4d22405ef1f549aeabfa6b3b66d30d90"
      }
     },
     "c79271a147434aa0a7bbdb6f7fa23c22": {
      "model_module": "@jupyter-widgets/base",
      "model_module_version": "1.2.0",
      "model_name": "LayoutModel",
      "state": {}
     },
     "cb1fb381e7514eb1a9e4bd0da2970afa": {
      "model_module": "@jupyter-widgets/controls",
      "model_module_version": "1.5.0",
      "model_name": "HTMLModel",
      "state": {
       "layout": "IPY_MODEL_8f6bb6c6b54d4dadae8cc6fc29d9cafe",
       "style": "IPY_MODEL_d8126a455679456689fd173780f794f8",
       "value": "Downloading: 100%"
      }
     },
     "ce748b79331e4323aa8c6369376ac244": {
      "model_module": "@jupyter-widgets/controls",
      "model_module_version": "1.5.0",
      "model_name": "ProgressStyleModel",
      "state": {
       "description_width": ""
      }
     },
     "d3629b8904c04965a4e194e6818a829e": {
      "model_module": "@jupyter-widgets/controls",
      "model_module_version": "1.5.0",
      "model_name": "FloatProgressModel",
      "state": {
       "bar_style": "success",
       "layout": "IPY_MODEL_efb73a1a87ed4e4b80abde0c27963d66",
       "max": 843438,
       "style": "IPY_MODEL_ce748b79331e4323aa8c6369376ac244",
       "value": 843438
      }
     },
     "d8126a455679456689fd173780f794f8": {
      "model_module": "@jupyter-widgets/controls",
      "model_module_version": "1.5.0",
      "model_name": "DescriptionStyleModel",
      "state": {
       "description_width": ""
      }
     },
     "da4472a6d08c4158829ce5c6876443c2": {
      "model_module": "@jupyter-widgets/controls",
      "model_module_version": "1.5.0",
      "model_name": "DescriptionStyleModel",
      "state": {
       "description_width": ""
      }
     },
     "db83c00359ee4931a65126553b3ac976": {
      "model_module": "@jupyter-widgets/base",
      "model_module_version": "1.2.0",
      "model_name": "LayoutModel",
      "state": {}
     },
     "dc594425fa704daa8073b2c1b59ebc66": {
      "model_module": "@jupyter-widgets/base",
      "model_module_version": "1.2.0",
      "model_name": "LayoutModel",
      "state": {}
     },
     "dc61890cffcf4aa3bcee7f843108975c": {
      "model_module": "@jupyter-widgets/controls",
      "model_module_version": "1.5.0",
      "model_name": "FloatProgressModel",
      "state": {
       "bar_style": "success",
       "layout": "IPY_MODEL_7bd44f0009bd4c07a3622de9205b8231",
       "max": 539694161,
       "style": "IPY_MODEL_4a6da60d2fe943f3958e9d8e7e133bda",
       "value": 539694161
      }
     },
     "e2d9fb6b3d674fe39236d6d4336cae66": {
      "model_module": "@jupyter-widgets/controls",
      "model_module_version": "1.5.0",
      "model_name": "HBoxModel",
      "state": {
       "children": [
        "IPY_MODEL_225d34415bf54daea8f509d3c176344a",
        "IPY_MODEL_34f83c48e3be4110bd05740933beebfa",
        "IPY_MODEL_5940c7146b8e4483b7b04e98bd5b4dc9"
       ],
       "layout": "IPY_MODEL_c37af4cd4fd245abb787299ed890d3ff"
      }
     },
     "e3a88d2499d9427bafb25f561d3497a2": {
      "model_module": "@jupyter-widgets/controls",
      "model_module_version": "1.5.0",
      "model_name": "DescriptionStyleModel",
      "state": {
       "description_width": ""
      }
     },
     "e6b5ffe5328349eea0a326f2a9ff2e65": {
      "model_module": "@jupyter-widgets/controls",
      "model_module_version": "1.5.0",
      "model_name": "HBoxModel",
      "state": {
       "children": [
        "IPY_MODEL_864bf77a46c3423496e3e8997bd81f8a",
        "IPY_MODEL_3faaf04dc1be4a968fd9e0efc935d13d",
        "IPY_MODEL_a8ec71f40e2843898b000e31e634edfa"
       ],
       "layout": "IPY_MODEL_2fc683e384d24527aae1031f012b7f52"
      }
     },
     "eeee22a933ce486ba52c571abdbe45a1": {
      "model_module": "@jupyter-widgets/base",
      "model_module_version": "1.2.0",
      "model_name": "LayoutModel",
      "state": {}
     },
     "efb73a1a87ed4e4b80abde0c27963d66": {
      "model_module": "@jupyter-widgets/base",
      "model_module_version": "1.2.0",
      "model_name": "LayoutModel",
      "state": {}
     },
     "f6bc9f6dc2a6408c9d4e473f0b1ddbd6": {
      "model_module": "@jupyter-widgets/base",
      "model_module_version": "1.2.0",
      "model_name": "LayoutModel",
      "state": {}
     },
     "fe55591b7c3044a09fef40363f2b99a4": {
      "model_module": "@jupyter-widgets/controls",
      "model_module_version": "1.5.0",
      "model_name": "FloatProgressModel",
      "state": {
       "bar_style": "success",
       "layout": "IPY_MODEL_046a36f4edb4444e9d287a6d1027d04e",
       "max": 17,
       "style": "IPY_MODEL_6da5924c958148c0b7356544cfb94a01",
       "value": 17
      }
     }
    },
    "version_major": 2,
    "version_minor": 0
   }
  }
 },
 "nbformat": 4,
 "nbformat_minor": 5
}
